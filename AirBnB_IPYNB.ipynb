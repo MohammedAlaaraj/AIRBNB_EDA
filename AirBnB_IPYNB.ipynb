{
  "nbformat": 4,
  "nbformat_minor": 0,
  "metadata": {
    "colab": {
      "provenance": []
    },
    "kernelspec": {
      "name": "python3",
      "display_name": "Python 3"
    },
    "language_info": {
      "name": "python"
    }
  },
  "cells": [
    {
      "cell_type": "markdown",
      "source": [
        "Importing required modules"
      ],
      "metadata": {
        "id": "_OSafvn1n3pN"
      }
    },
    {
      "cell_type": "code",
      "execution_count": null,
      "metadata": {
        "id": "jf3c3Lwx-jkY"
      },
      "outputs": [],
      "source": [
        "#1-a-i\n",
        "import pandas as pd\n",
        "import numpy as np\n",
        "import matplotlib.pyplot as plt"
      ]
    },
    {
      "cell_type": "markdown",
      "source": [
        "Reading the csv file into a data frame"
      ],
      "metadata": {
        "id": "KW3CVrHsoGJy"
      }
    },
    {
      "cell_type": "code",
      "source": [
        "df = pd.read_csv(\"/content/apartmentsNYC.csv\")"
      ],
      "metadata": {
        "id": "M78CSk-HC9_5"
      },
      "execution_count": null,
      "outputs": []
    },
    {
      "cell_type": "code",
      "source": [
        "df.head()"
      ],
      "metadata": {
        "id": "nmgBiBfaDQ-5",
        "colab": {
          "base_uri": "https://localhost:8080/",
          "height": 496
        },
        "outputId": "65a03310-acee-41e5-ff22-4c4519389356"
      },
      "execution_count": null,
      "outputs": [
        {
          "output_type": "execute_result",
          "data": {
            "text/plain": [
              "        id                                name  host_id            host_name  \\\n",
              "0  77765.0                Superior @ Box House   417504  The Box House Hotel   \n",
              "1   2539.0  Clean & quiet apt home by the park     2787                 John   \n",
              "2  45910.0  Beautiful Queens Brownstone! - 5BR   204539                 Mark   \n",
              "3  45935.0        Room in Beautiful Townhouse.   204586                    L   \n",
              "4  45936.0  Couldn't Be Closer To Columbia Uni   867225                Rahul   \n",
              "\n",
              "  neighbourhood_group        neighbourhood  latitude  longitude  \\\n",
              "0            Brooklyn           Greenpoint  40.73777  -73.95366   \n",
              "1            Brooklyn           Kensington  40.64529  -73.97238   \n",
              "2              Queens            Ridgewood  40.70309  -73.89963   \n",
              "3               Bronx           Mott Haven  40.80635  -73.92201   \n",
              "4           Manhattan  Morningside Heights  40.80630  -73.95985   \n",
              "\n",
              "         room_type  price  minimum_nights  number_of_reviews last_review  \\\n",
              "0       Hotel room    308               2                 42   7/18/2022   \n",
              "1     Private room      0              30                  9  10/19/2018   \n",
              "2  Entire home/apt    425              30                 13  11/12/2019   \n",
              "3     Private room     60              30                  0         NaN   \n",
              "4     Private room     75              31                135   7/11/2022   \n",
              "\n",
              "   reviews_per_month  calculated_host_listings_count  availability_365  \\\n",
              "0               0.30                              30               217   \n",
              "1               0.11                               9               356   \n",
              "2               0.10                               6               365   \n",
              "3                NaN                               1                83   \n",
              "4               0.95                               1               219   \n",
              "\n",
              "   number_of_reviews_ltm license  \n",
              "0                      4     NaN  \n",
              "1                      0     NaN  \n",
              "2                      0     NaN  \n",
              "3                      0     NaN  \n",
              "4                      4     NaN  "
            ],
            "text/html": [
              "\n",
              "  <div id=\"df-c74ffeaa-bba7-40c1-898e-358d1a22211d\">\n",
              "    <div class=\"colab-df-container\">\n",
              "      <div>\n",
              "<style scoped>\n",
              "    .dataframe tbody tr th:only-of-type {\n",
              "        vertical-align: middle;\n",
              "    }\n",
              "\n",
              "    .dataframe tbody tr th {\n",
              "        vertical-align: top;\n",
              "    }\n",
              "\n",
              "    .dataframe thead th {\n",
              "        text-align: right;\n",
              "    }\n",
              "</style>\n",
              "<table border=\"1\" class=\"dataframe\">\n",
              "  <thead>\n",
              "    <tr style=\"text-align: right;\">\n",
              "      <th></th>\n",
              "      <th>id</th>\n",
              "      <th>name</th>\n",
              "      <th>host_id</th>\n",
              "      <th>host_name</th>\n",
              "      <th>neighbourhood_group</th>\n",
              "      <th>neighbourhood</th>\n",
              "      <th>latitude</th>\n",
              "      <th>longitude</th>\n",
              "      <th>room_type</th>\n",
              "      <th>price</th>\n",
              "      <th>minimum_nights</th>\n",
              "      <th>number_of_reviews</th>\n",
              "      <th>last_review</th>\n",
              "      <th>reviews_per_month</th>\n",
              "      <th>calculated_host_listings_count</th>\n",
              "      <th>availability_365</th>\n",
              "      <th>number_of_reviews_ltm</th>\n",
              "      <th>license</th>\n",
              "    </tr>\n",
              "  </thead>\n",
              "  <tbody>\n",
              "    <tr>\n",
              "      <th>0</th>\n",
              "      <td>77765.0</td>\n",
              "      <td>Superior @ Box House</td>\n",
              "      <td>417504</td>\n",
              "      <td>The Box House Hotel</td>\n",
              "      <td>Brooklyn</td>\n",
              "      <td>Greenpoint</td>\n",
              "      <td>40.73777</td>\n",
              "      <td>-73.95366</td>\n",
              "      <td>Hotel room</td>\n",
              "      <td>308</td>\n",
              "      <td>2</td>\n",
              "      <td>42</td>\n",
              "      <td>7/18/2022</td>\n",
              "      <td>0.30</td>\n",
              "      <td>30</td>\n",
              "      <td>217</td>\n",
              "      <td>4</td>\n",
              "      <td>NaN</td>\n",
              "    </tr>\n",
              "    <tr>\n",
              "      <th>1</th>\n",
              "      <td>2539.0</td>\n",
              "      <td>Clean &amp; quiet apt home by the park</td>\n",
              "      <td>2787</td>\n",
              "      <td>John</td>\n",
              "      <td>Brooklyn</td>\n",
              "      <td>Kensington</td>\n",
              "      <td>40.64529</td>\n",
              "      <td>-73.97238</td>\n",
              "      <td>Private room</td>\n",
              "      <td>0</td>\n",
              "      <td>30</td>\n",
              "      <td>9</td>\n",
              "      <td>10/19/2018</td>\n",
              "      <td>0.11</td>\n",
              "      <td>9</td>\n",
              "      <td>356</td>\n",
              "      <td>0</td>\n",
              "      <td>NaN</td>\n",
              "    </tr>\n",
              "    <tr>\n",
              "      <th>2</th>\n",
              "      <td>45910.0</td>\n",
              "      <td>Beautiful Queens Brownstone! - 5BR</td>\n",
              "      <td>204539</td>\n",
              "      <td>Mark</td>\n",
              "      <td>Queens</td>\n",
              "      <td>Ridgewood</td>\n",
              "      <td>40.70309</td>\n",
              "      <td>-73.89963</td>\n",
              "      <td>Entire home/apt</td>\n",
              "      <td>425</td>\n",
              "      <td>30</td>\n",
              "      <td>13</td>\n",
              "      <td>11/12/2019</td>\n",
              "      <td>0.10</td>\n",
              "      <td>6</td>\n",
              "      <td>365</td>\n",
              "      <td>0</td>\n",
              "      <td>NaN</td>\n",
              "    </tr>\n",
              "    <tr>\n",
              "      <th>3</th>\n",
              "      <td>45935.0</td>\n",
              "      <td>Room in Beautiful Townhouse.</td>\n",
              "      <td>204586</td>\n",
              "      <td>L</td>\n",
              "      <td>Bronx</td>\n",
              "      <td>Mott Haven</td>\n",
              "      <td>40.80635</td>\n",
              "      <td>-73.92201</td>\n",
              "      <td>Private room</td>\n",
              "      <td>60</td>\n",
              "      <td>30</td>\n",
              "      <td>0</td>\n",
              "      <td>NaN</td>\n",
              "      <td>NaN</td>\n",
              "      <td>1</td>\n",
              "      <td>83</td>\n",
              "      <td>0</td>\n",
              "      <td>NaN</td>\n",
              "    </tr>\n",
              "    <tr>\n",
              "      <th>4</th>\n",
              "      <td>45936.0</td>\n",
              "      <td>Couldn't Be Closer To Columbia Uni</td>\n",
              "      <td>867225</td>\n",
              "      <td>Rahul</td>\n",
              "      <td>Manhattan</td>\n",
              "      <td>Morningside Heights</td>\n",
              "      <td>40.80630</td>\n",
              "      <td>-73.95985</td>\n",
              "      <td>Private room</td>\n",
              "      <td>75</td>\n",
              "      <td>31</td>\n",
              "      <td>135</td>\n",
              "      <td>7/11/2022</td>\n",
              "      <td>0.95</td>\n",
              "      <td>1</td>\n",
              "      <td>219</td>\n",
              "      <td>4</td>\n",
              "      <td>NaN</td>\n",
              "    </tr>\n",
              "  </tbody>\n",
              "</table>\n",
              "</div>\n",
              "      <button class=\"colab-df-convert\" onclick=\"convertToInteractive('df-c74ffeaa-bba7-40c1-898e-358d1a22211d')\"\n",
              "              title=\"Convert this dataframe to an interactive table.\"\n",
              "              style=\"display:none;\">\n",
              "        \n",
              "  <svg xmlns=\"http://www.w3.org/2000/svg\" height=\"24px\"viewBox=\"0 0 24 24\"\n",
              "       width=\"24px\">\n",
              "    <path d=\"M0 0h24v24H0V0z\" fill=\"none\"/>\n",
              "    <path d=\"M18.56 5.44l.94 2.06.94-2.06 2.06-.94-2.06-.94-.94-2.06-.94 2.06-2.06.94zm-11 1L8.5 8.5l.94-2.06 2.06-.94-2.06-.94L8.5 2.5l-.94 2.06-2.06.94zm10 10l.94 2.06.94-2.06 2.06-.94-2.06-.94-.94-2.06-.94 2.06-2.06.94z\"/><path d=\"M17.41 7.96l-1.37-1.37c-.4-.4-.92-.59-1.43-.59-.52 0-1.04.2-1.43.59L10.3 9.45l-7.72 7.72c-.78.78-.78 2.05 0 2.83L4 21.41c.39.39.9.59 1.41.59.51 0 1.02-.2 1.41-.59l7.78-7.78 2.81-2.81c.8-.78.8-2.07 0-2.86zM5.41 20L4 18.59l7.72-7.72 1.47 1.35L5.41 20z\"/>\n",
              "  </svg>\n",
              "      </button>\n",
              "      \n",
              "  <style>\n",
              "    .colab-df-container {\n",
              "      display:flex;\n",
              "      flex-wrap:wrap;\n",
              "      gap: 12px;\n",
              "    }\n",
              "\n",
              "    .colab-df-convert {\n",
              "      background-color: #E8F0FE;\n",
              "      border: none;\n",
              "      border-radius: 50%;\n",
              "      cursor: pointer;\n",
              "      display: none;\n",
              "      fill: #1967D2;\n",
              "      height: 32px;\n",
              "      padding: 0 0 0 0;\n",
              "      width: 32px;\n",
              "    }\n",
              "\n",
              "    .colab-df-convert:hover {\n",
              "      background-color: #E2EBFA;\n",
              "      box-shadow: 0px 1px 2px rgba(60, 64, 67, 0.3), 0px 1px 3px 1px rgba(60, 64, 67, 0.15);\n",
              "      fill: #174EA6;\n",
              "    }\n",
              "\n",
              "    [theme=dark] .colab-df-convert {\n",
              "      background-color: #3B4455;\n",
              "      fill: #D2E3FC;\n",
              "    }\n",
              "\n",
              "    [theme=dark] .colab-df-convert:hover {\n",
              "      background-color: #434B5C;\n",
              "      box-shadow: 0px 1px 3px 1px rgba(0, 0, 0, 0.15);\n",
              "      filter: drop-shadow(0px 1px 2px rgba(0, 0, 0, 0.3));\n",
              "      fill: #FFFFFF;\n",
              "    }\n",
              "  </style>\n",
              "\n",
              "      <script>\n",
              "        const buttonEl =\n",
              "          document.querySelector('#df-c74ffeaa-bba7-40c1-898e-358d1a22211d button.colab-df-convert');\n",
              "        buttonEl.style.display =\n",
              "          google.colab.kernel.accessAllowed ? 'block' : 'none';\n",
              "\n",
              "        async function convertToInteractive(key) {\n",
              "          const element = document.querySelector('#df-c74ffeaa-bba7-40c1-898e-358d1a22211d');\n",
              "          const dataTable =\n",
              "            await google.colab.kernel.invokeFunction('convertToInteractive',\n",
              "                                                     [key], {});\n",
              "          if (!dataTable) return;\n",
              "\n",
              "          const docLinkHtml = 'Like what you see? Visit the ' +\n",
              "            '<a target=\"_blank\" href=https://colab.research.google.com/notebooks/data_table.ipynb>data table notebook</a>'\n",
              "            + ' to learn more about interactive tables.';\n",
              "          element.innerHTML = '';\n",
              "          dataTable['output_type'] = 'display_data';\n",
              "          await google.colab.output.renderOutput(dataTable, element);\n",
              "          const docLink = document.createElement('div');\n",
              "          docLink.innerHTML = docLinkHtml;\n",
              "          element.appendChild(docLink);\n",
              "        }\n",
              "      </script>\n",
              "    </div>\n",
              "  </div>\n",
              "  "
            ]
          },
          "metadata": {},
          "execution_count": 3
        }
      ]
    },
    {
      "cell_type": "code",
      "source": [
        "df.shape"
      ],
      "metadata": {
        "id": "i0X94H7dEWVE",
        "colab": {
          "base_uri": "https://localhost:8080/"
        },
        "outputId": "002b67e2-0572-4b7c-85ff-fdee794b2443"
      },
      "execution_count": null,
      "outputs": [
        {
          "output_type": "execute_result",
          "data": {
            "text/plain": [
              "(39881, 18)"
            ]
          },
          "metadata": {},
          "execution_count": 4
        }
      ]
    },
    {
      "cell_type": "code",
      "source": [
        "#We are checking for duplicate rows before dropping any columns to confirm that there are no duplicates\n",
        "sum(df.duplicated())"
      ],
      "metadata": {
        "id": "jOM-Hwo0Zvek",
        "colab": {
          "base_uri": "https://localhost:8080/"
        },
        "outputId": "d2bd1c9e-2e9b-49b4-c4ce-a1788ef4faa2"
      },
      "execution_count": null,
      "outputs": [
        {
          "output_type": "execute_result",
          "data": {
            "text/plain": [
              "0"
            ]
          },
          "metadata": {},
          "execution_count": 5
        }
      ]
    },
    {
      "cell_type": "markdown",
      "source": [
        "We will drop the id, host name, name, and host id.\n",
        "We removed the host name and name for privacy concerns and we removed the id and host id bcause they play no role in prediction, they are simply identifiers."
      ],
      "metadata": {
        "id": "iUew5N1LodHg"
      }
    },
    {
      "cell_type": "code",
      "source": [
        "df = df.drop(columns = [\"id\",\"host_name\",\"name\",\"host_id\",\"last_review\"])\n",
        "df.head()"
      ],
      "metadata": {
        "id": "Hxp7CSSfFWZq",
        "colab": {
          "base_uri": "https://localhost:8080/",
          "height": 340
        },
        "outputId": "9e3184c4-3dbc-4a5e-efc3-ca6ffe016212"
      },
      "execution_count": null,
      "outputs": [
        {
          "output_type": "execute_result",
          "data": {
            "text/plain": [
              "  neighbourhood_group        neighbourhood  latitude  longitude  \\\n",
              "0            Brooklyn           Greenpoint  40.73777  -73.95366   \n",
              "1            Brooklyn           Kensington  40.64529  -73.97238   \n",
              "2              Queens            Ridgewood  40.70309  -73.89963   \n",
              "3               Bronx           Mott Haven  40.80635  -73.92201   \n",
              "4           Manhattan  Morningside Heights  40.80630  -73.95985   \n",
              "\n",
              "         room_type  price  minimum_nights  number_of_reviews  \\\n",
              "0       Hotel room    308               2                 42   \n",
              "1     Private room      0              30                  9   \n",
              "2  Entire home/apt    425              30                 13   \n",
              "3     Private room     60              30                  0   \n",
              "4     Private room     75              31                135   \n",
              "\n",
              "   reviews_per_month  calculated_host_listings_count  availability_365  \\\n",
              "0               0.30                              30               217   \n",
              "1               0.11                               9               356   \n",
              "2               0.10                               6               365   \n",
              "3                NaN                               1                83   \n",
              "4               0.95                               1               219   \n",
              "\n",
              "   number_of_reviews_ltm license  \n",
              "0                      4     NaN  \n",
              "1                      0     NaN  \n",
              "2                      0     NaN  \n",
              "3                      0     NaN  \n",
              "4                      4     NaN  "
            ],
            "text/html": [
              "\n",
              "  <div id=\"df-0d9afad0-dd90-4067-ae6d-81ce26c06087\">\n",
              "    <div class=\"colab-df-container\">\n",
              "      <div>\n",
              "<style scoped>\n",
              "    .dataframe tbody tr th:only-of-type {\n",
              "        vertical-align: middle;\n",
              "    }\n",
              "\n",
              "    .dataframe tbody tr th {\n",
              "        vertical-align: top;\n",
              "    }\n",
              "\n",
              "    .dataframe thead th {\n",
              "        text-align: right;\n",
              "    }\n",
              "</style>\n",
              "<table border=\"1\" class=\"dataframe\">\n",
              "  <thead>\n",
              "    <tr style=\"text-align: right;\">\n",
              "      <th></th>\n",
              "      <th>neighbourhood_group</th>\n",
              "      <th>neighbourhood</th>\n",
              "      <th>latitude</th>\n",
              "      <th>longitude</th>\n",
              "      <th>room_type</th>\n",
              "      <th>price</th>\n",
              "      <th>minimum_nights</th>\n",
              "      <th>number_of_reviews</th>\n",
              "      <th>reviews_per_month</th>\n",
              "      <th>calculated_host_listings_count</th>\n",
              "      <th>availability_365</th>\n",
              "      <th>number_of_reviews_ltm</th>\n",
              "      <th>license</th>\n",
              "    </tr>\n",
              "  </thead>\n",
              "  <tbody>\n",
              "    <tr>\n",
              "      <th>0</th>\n",
              "      <td>Brooklyn</td>\n",
              "      <td>Greenpoint</td>\n",
              "      <td>40.73777</td>\n",
              "      <td>-73.95366</td>\n",
              "      <td>Hotel room</td>\n",
              "      <td>308</td>\n",
              "      <td>2</td>\n",
              "      <td>42</td>\n",
              "      <td>0.30</td>\n",
              "      <td>30</td>\n",
              "      <td>217</td>\n",
              "      <td>4</td>\n",
              "      <td>NaN</td>\n",
              "    </tr>\n",
              "    <tr>\n",
              "      <th>1</th>\n",
              "      <td>Brooklyn</td>\n",
              "      <td>Kensington</td>\n",
              "      <td>40.64529</td>\n",
              "      <td>-73.97238</td>\n",
              "      <td>Private room</td>\n",
              "      <td>0</td>\n",
              "      <td>30</td>\n",
              "      <td>9</td>\n",
              "      <td>0.11</td>\n",
              "      <td>9</td>\n",
              "      <td>356</td>\n",
              "      <td>0</td>\n",
              "      <td>NaN</td>\n",
              "    </tr>\n",
              "    <tr>\n",
              "      <th>2</th>\n",
              "      <td>Queens</td>\n",
              "      <td>Ridgewood</td>\n",
              "      <td>40.70309</td>\n",
              "      <td>-73.89963</td>\n",
              "      <td>Entire home/apt</td>\n",
              "      <td>425</td>\n",
              "      <td>30</td>\n",
              "      <td>13</td>\n",
              "      <td>0.10</td>\n",
              "      <td>6</td>\n",
              "      <td>365</td>\n",
              "      <td>0</td>\n",
              "      <td>NaN</td>\n",
              "    </tr>\n",
              "    <tr>\n",
              "      <th>3</th>\n",
              "      <td>Bronx</td>\n",
              "      <td>Mott Haven</td>\n",
              "      <td>40.80635</td>\n",
              "      <td>-73.92201</td>\n",
              "      <td>Private room</td>\n",
              "      <td>60</td>\n",
              "      <td>30</td>\n",
              "      <td>0</td>\n",
              "      <td>NaN</td>\n",
              "      <td>1</td>\n",
              "      <td>83</td>\n",
              "      <td>0</td>\n",
              "      <td>NaN</td>\n",
              "    </tr>\n",
              "    <tr>\n",
              "      <th>4</th>\n",
              "      <td>Manhattan</td>\n",
              "      <td>Morningside Heights</td>\n",
              "      <td>40.80630</td>\n",
              "      <td>-73.95985</td>\n",
              "      <td>Private room</td>\n",
              "      <td>75</td>\n",
              "      <td>31</td>\n",
              "      <td>135</td>\n",
              "      <td>0.95</td>\n",
              "      <td>1</td>\n",
              "      <td>219</td>\n",
              "      <td>4</td>\n",
              "      <td>NaN</td>\n",
              "    </tr>\n",
              "  </tbody>\n",
              "</table>\n",
              "</div>\n",
              "      <button class=\"colab-df-convert\" onclick=\"convertToInteractive('df-0d9afad0-dd90-4067-ae6d-81ce26c06087')\"\n",
              "              title=\"Convert this dataframe to an interactive table.\"\n",
              "              style=\"display:none;\">\n",
              "        \n",
              "  <svg xmlns=\"http://www.w3.org/2000/svg\" height=\"24px\"viewBox=\"0 0 24 24\"\n",
              "       width=\"24px\">\n",
              "    <path d=\"M0 0h24v24H0V0z\" fill=\"none\"/>\n",
              "    <path d=\"M18.56 5.44l.94 2.06.94-2.06 2.06-.94-2.06-.94-.94-2.06-.94 2.06-2.06.94zm-11 1L8.5 8.5l.94-2.06 2.06-.94-2.06-.94L8.5 2.5l-.94 2.06-2.06.94zm10 10l.94 2.06.94-2.06 2.06-.94-2.06-.94-.94-2.06-.94 2.06-2.06.94z\"/><path d=\"M17.41 7.96l-1.37-1.37c-.4-.4-.92-.59-1.43-.59-.52 0-1.04.2-1.43.59L10.3 9.45l-7.72 7.72c-.78.78-.78 2.05 0 2.83L4 21.41c.39.39.9.59 1.41.59.51 0 1.02-.2 1.41-.59l7.78-7.78 2.81-2.81c.8-.78.8-2.07 0-2.86zM5.41 20L4 18.59l7.72-7.72 1.47 1.35L5.41 20z\"/>\n",
              "  </svg>\n",
              "      </button>\n",
              "      \n",
              "  <style>\n",
              "    .colab-df-container {\n",
              "      display:flex;\n",
              "      flex-wrap:wrap;\n",
              "      gap: 12px;\n",
              "    }\n",
              "\n",
              "    .colab-df-convert {\n",
              "      background-color: #E8F0FE;\n",
              "      border: none;\n",
              "      border-radius: 50%;\n",
              "      cursor: pointer;\n",
              "      display: none;\n",
              "      fill: #1967D2;\n",
              "      height: 32px;\n",
              "      padding: 0 0 0 0;\n",
              "      width: 32px;\n",
              "    }\n",
              "\n",
              "    .colab-df-convert:hover {\n",
              "      background-color: #E2EBFA;\n",
              "      box-shadow: 0px 1px 2px rgba(60, 64, 67, 0.3), 0px 1px 3px 1px rgba(60, 64, 67, 0.15);\n",
              "      fill: #174EA6;\n",
              "    }\n",
              "\n",
              "    [theme=dark] .colab-df-convert {\n",
              "      background-color: #3B4455;\n",
              "      fill: #D2E3FC;\n",
              "    }\n",
              "\n",
              "    [theme=dark] .colab-df-convert:hover {\n",
              "      background-color: #434B5C;\n",
              "      box-shadow: 0px 1px 3px 1px rgba(0, 0, 0, 0.15);\n",
              "      filter: drop-shadow(0px 1px 2px rgba(0, 0, 0, 0.3));\n",
              "      fill: #FFFFFF;\n",
              "    }\n",
              "  </style>\n",
              "\n",
              "      <script>\n",
              "        const buttonEl =\n",
              "          document.querySelector('#df-0d9afad0-dd90-4067-ae6d-81ce26c06087 button.colab-df-convert');\n",
              "        buttonEl.style.display =\n",
              "          google.colab.kernel.accessAllowed ? 'block' : 'none';\n",
              "\n",
              "        async function convertToInteractive(key) {\n",
              "          const element = document.querySelector('#df-0d9afad0-dd90-4067-ae6d-81ce26c06087');\n",
              "          const dataTable =\n",
              "            await google.colab.kernel.invokeFunction('convertToInteractive',\n",
              "                                                     [key], {});\n",
              "          if (!dataTable) return;\n",
              "\n",
              "          const docLinkHtml = 'Like what you see? Visit the ' +\n",
              "            '<a target=\"_blank\" href=https://colab.research.google.com/notebooks/data_table.ipynb>data table notebook</a>'\n",
              "            + ' to learn more about interactive tables.';\n",
              "          element.innerHTML = '';\n",
              "          dataTable['output_type'] = 'display_data';\n",
              "          await google.colab.output.renderOutput(dataTable, element);\n",
              "          const docLink = document.createElement('div');\n",
              "          docLink.innerHTML = docLinkHtml;\n",
              "          element.appendChild(docLink);\n",
              "        }\n",
              "      </script>\n",
              "    </div>\n",
              "  </div>\n",
              "  "
            ]
          },
          "metadata": {},
          "execution_count": 6
        }
      ]
    },
    {
      "cell_type": "code",
      "source": [
        "df.nunique()\n",
        "#None of our columns contain only a single value"
      ],
      "metadata": {
        "id": "A3A9QKqbXCgI",
        "colab": {
          "base_uri": "https://localhost:8080/"
        },
        "outputId": "e2381bae-37ed-4b90-b596-1664095060ac"
      },
      "execution_count": null,
      "outputs": [
        {
          "output_type": "execute_result",
          "data": {
            "text/plain": [
              "neighbourhood_group                   5\n",
              "neighbourhood                       244\n",
              "latitude                          21310\n",
              "longitude                         18787\n",
              "room_type                             5\n",
              "price                              1045\n",
              "minimum_nights                      130\n",
              "number_of_reviews                   460\n",
              "reviews_per_month                   890\n",
              "calculated_host_listings_count       64\n",
              "availability_365                    367\n",
              "number_of_reviews_ltm               167\n",
              "license                               5\n",
              "dtype: int64"
            ]
          },
          "metadata": {},
          "execution_count": 7
        }
      ]
    },
    {
      "cell_type": "markdown",
      "source": [
        "1 a i Developing the modules to identify missing data\n"
      ],
      "metadata": {
        "id": "8NqqyH64W3LQ"
      }
    },
    {
      "cell_type": "markdown",
      "source": [
        "Using the unique function for categorical data"
      ],
      "metadata": {
        "id": "wzrprQ57RbG2"
      }
    },
    {
      "cell_type": "code",
      "source": [
        "df['neighbourhood_group'].unique()"
      ],
      "metadata": {
        "id": "Zm4oR7ksWhmL",
        "colab": {
          "base_uri": "https://localhost:8080/"
        },
        "outputId": "98323b24-27c9-40cc-8077-0757916593e9"
      },
      "execution_count": null,
      "outputs": [
        {
          "output_type": "execute_result",
          "data": {
            "text/plain": [
              "array(['Brooklyn', 'Queens', 'Bronx', 'Manhattan', 'Staten Island'],\n",
              "      dtype=object)"
            ]
          },
          "metadata": {},
          "execution_count": 8
        }
      ]
    },
    {
      "cell_type": "code",
      "source": [
        "#when we look at them in alphabetical order we can check if there any spelling mistakes and identify any missing values in the column\n",
        "sorted(df['neighbourhood'].unique())"
      ],
      "metadata": {
        "id": "WzKoz5QmtXB3",
        "colab": {
          "base_uri": "https://localhost:8080/"
        },
        "outputId": "06293d60-2b60-4370-d83c-b6474142c840"
      },
      "execution_count": null,
      "outputs": [
        {
          "output_type": "execute_result",
          "data": {
            "text/plain": [
              "['Allerton',\n",
              " 'Arden Heights',\n",
              " 'Arrochar',\n",
              " 'Arverne',\n",
              " 'Astoria',\n",
              " 'Bath Beach',\n",
              " 'Battery Park City',\n",
              " 'Bay Ridge',\n",
              " 'Bay Terrace',\n",
              " 'Baychester',\n",
              " 'Bayside',\n",
              " 'Bayswater',\n",
              " 'Bedford-Stuyvesant',\n",
              " 'Belle Harbor',\n",
              " 'Bellerose',\n",
              " 'Belmont',\n",
              " 'Bensonhurst',\n",
              " 'Bergen Beach',\n",
              " 'Bloomfield',\n",
              " 'Boerum Hill',\n",
              " 'Borough Park',\n",
              " 'Breezy Point',\n",
              " 'Briarwood',\n",
              " 'Brighton Beach',\n",
              " 'Broad Channel',\n",
              " 'Bronx Park',\n",
              " 'Bronxdale',\n",
              " 'Brooklyn Heights',\n",
              " 'Brownsville',\n",
              " \"Bull's Head\",\n",
              " 'Bushwick',\n",
              " 'Cambria Heights',\n",
              " 'Canarsie',\n",
              " 'Carroll Gardens',\n",
              " 'Castle Hill',\n",
              " 'Castleton Corners',\n",
              " 'Central Park',\n",
              " 'Chelsea',\n",
              " 'Chelsea, Staten Island',\n",
              " 'Chinatown',\n",
              " 'City Island',\n",
              " 'Civic Center',\n",
              " 'Claremont Village',\n",
              " 'Clason Point',\n",
              " 'Clifton',\n",
              " 'Clinton Hill',\n",
              " 'Co-op City',\n",
              " 'Cobble Hill',\n",
              " 'College Point',\n",
              " 'Columbia St',\n",
              " 'Concord',\n",
              " 'Concourse',\n",
              " 'Concourse Village',\n",
              " 'Coney Island',\n",
              " 'Corona',\n",
              " 'Country Club',\n",
              " 'Crotona Park',\n",
              " 'Crown Heights',\n",
              " 'Cypress Hills',\n",
              " 'DUMBO',\n",
              " 'Ditmars Steinway',\n",
              " 'Dongan Hills',\n",
              " 'Douglaston',\n",
              " 'Downtown Brooklyn',\n",
              " 'Dyker Heights',\n",
              " 'East Elmhurst',\n",
              " 'East Flatbush',\n",
              " 'East Harlem',\n",
              " 'East Morrisania',\n",
              " 'East New York',\n",
              " 'East Village',\n",
              " 'Eastchester',\n",
              " 'Edenwald',\n",
              " 'Edgemere',\n",
              " 'Ellis Island',\n",
              " 'Elmhurst',\n",
              " 'Eltingville',\n",
              " 'Emerson Hill',\n",
              " 'Far Rockaway',\n",
              " 'Ferry Point Park',\n",
              " 'Fieldston',\n",
              " 'Financial District',\n",
              " 'Flatbush',\n",
              " 'Flatiron District',\n",
              " 'Flatlands',\n",
              " 'Floral Park',\n",
              " 'Flushing',\n",
              " 'Flushing Meadows Corona Park',\n",
              " 'Fordham',\n",
              " 'Forest Hills',\n",
              " 'Forest Park',\n",
              " 'Fort Greene',\n",
              " 'Fort Hamilton',\n",
              " 'Fort Wadsworth',\n",
              " 'Fresh Meadows',\n",
              " 'Freshkills Park',\n",
              " 'Gerritsen Beach',\n",
              " 'Glendale',\n",
              " 'Gowanus',\n",
              " 'Gramercy',\n",
              " 'Graniteville',\n",
              " 'Grant City',\n",
              " 'Gravesend',\n",
              " 'Great Kills',\n",
              " 'Green-Wood Cemetery',\n",
              " 'Greenpoint',\n",
              " 'Greenwich Village',\n",
              " 'Grymes Hill',\n",
              " 'Harlem',\n",
              " \"Hell's Kitchen\",\n",
              " 'Highbridge',\n",
              " 'Hollis',\n",
              " 'Hollis Hills',\n",
              " 'Holliswood',\n",
              " 'Howard Beach',\n",
              " 'Howland Hook',\n",
              " 'Huguenot',\n",
              " 'Hunts Point',\n",
              " 'Inwood',\n",
              " 'Jackson Heights',\n",
              " 'Jamaica',\n",
              " 'Jamaica Estates',\n",
              " 'Jamaica Hills',\n",
              " 'Kensington',\n",
              " 'Kew Gardens',\n",
              " 'Kew Gardens Hills',\n",
              " 'Kingsbridge',\n",
              " 'Kips Bay',\n",
              " 'LaGuardia Airport',\n",
              " 'Laurelton',\n",
              " 'Lighthouse Hill',\n",
              " 'Little Italy',\n",
              " 'Little Neck',\n",
              " 'Long Island City',\n",
              " 'Longwood',\n",
              " 'Lower East Side',\n",
              " 'Manhattan Beach',\n",
              " 'Marble Hill',\n",
              " 'Marine Park',\n",
              " 'Mariners Harbor',\n",
              " 'Maspeth',\n",
              " 'Melrose',\n",
              " 'Middle Village',\n",
              " 'Midland Beach',\n",
              " 'Midtown',\n",
              " 'Midwood',\n",
              " 'Mill Basin',\n",
              " 'Morningside Heights',\n",
              " 'Morris Heights',\n",
              " 'Morris Park',\n",
              " 'Morrisania',\n",
              " 'Mott Haven',\n",
              " 'Mount Eden',\n",
              " 'Mount Hope',\n",
              " 'Murray Hill',\n",
              " 'Navy Yard',\n",
              " 'Neponsit',\n",
              " 'New Brighton',\n",
              " 'New Dorp',\n",
              " 'New Dorp Beach',\n",
              " 'New Springville',\n",
              " 'NoHo',\n",
              " 'Nolita',\n",
              " 'North Riverdale',\n",
              " 'Norwood',\n",
              " 'Oakwood',\n",
              " 'Olinville',\n",
              " 'Ozone Park',\n",
              " 'Park Hill',\n",
              " 'Park Slope',\n",
              " 'Parkchester',\n",
              " 'Pelham Bay',\n",
              " 'Pelham Bay Park',\n",
              " 'Pelham Gardens',\n",
              " 'Pelham Islands',\n",
              " 'Port Ivory',\n",
              " 'Port Morris',\n",
              " 'Port Richmond',\n",
              " \"Prince's Bay\",\n",
              " 'Prospect Heights',\n",
              " 'Prospect Park',\n",
              " 'Prospect-Lefferts Gardens',\n",
              " 'Queens Village',\n",
              " 'Randall Manor',\n",
              " 'Red Hook',\n",
              " 'Rego Park',\n",
              " 'Richmond Hill',\n",
              " 'Richmondtown',\n",
              " 'Ridgewood',\n",
              " 'Riverdale',\n",
              " 'Rockaway Beach',\n",
              " 'Rockaway Park',\n",
              " 'Roosevelt Island',\n",
              " 'Rosebank',\n",
              " 'Rosedale',\n",
              " 'Schuylerville',\n",
              " 'Sea Gate',\n",
              " 'Sheepshead Bay',\n",
              " 'Shore Acres',\n",
              " 'Silver Lake',\n",
              " 'SoHo',\n",
              " 'Soundview',\n",
              " 'South Beach',\n",
              " 'South Ozone Park',\n",
              " 'South Slope',\n",
              " 'Springfield Gardens',\n",
              " 'Spuyten Duyvil',\n",
              " 'St. Albans',\n",
              " 'St. George',\n",
              " 'Stapleton',\n",
              " 'Stuyvesant Town',\n",
              " 'Sunnyside',\n",
              " 'Sunset Park',\n",
              " 'Theater District',\n",
              " 'Throgs Neck',\n",
              " 'Todt Hill',\n",
              " 'Tompkinsville',\n",
              " 'Tottenville',\n",
              " 'Tremont',\n",
              " 'Tribeca',\n",
              " 'Two Bridges',\n",
              " 'Unionport',\n",
              " 'University Heights',\n",
              " 'Upper East Side',\n",
              " 'Upper West Side',\n",
              " 'Van Cortlandt Park',\n",
              " 'Van Nest',\n",
              " 'Vinegar Hill',\n",
              " 'Wakefield',\n",
              " 'Washington Heights',\n",
              " 'West Brighton',\n",
              " 'West Farms',\n",
              " 'West Village',\n",
              " 'Westchester Square',\n",
              " 'Westerleigh',\n",
              " 'Whitestone',\n",
              " 'Williamsbridge',\n",
              " 'Williamsburg',\n",
              " 'Willowbrook',\n",
              " 'Windsor Terrace',\n",
              " 'Woodhaven',\n",
              " 'Woodlawn',\n",
              " 'Woodrow',\n",
              " 'Woodside']"
            ]
          },
          "metadata": {},
          "execution_count": 9
        }
      ]
    },
    {
      "cell_type": "code",
      "source": [
        "df['room_type'].unique()\n",
        "#we find white spaces: \" \" and mark them as NaN"
      ],
      "metadata": {
        "id": "V02cnpqCVU8n",
        "colab": {
          "base_uri": "https://localhost:8080/"
        },
        "outputId": "426a73f8-06be-4240-dd91-d4a2889b0bde"
      },
      "execution_count": null,
      "outputs": [
        {
          "output_type": "execute_result",
          "data": {
            "text/plain": [
              "array(['Hotel room', 'Private room', 'Entire home/apt', 'hotel room', nan,\n",
              "       'Shared room'], dtype=object)"
            ]
          },
          "metadata": {},
          "execution_count": 10
        }
      ]
    },
    {
      "cell_type": "code",
      "source": [
        "df['license'].unique() "
      ],
      "metadata": {
        "id": "GnT87w3ZV3eO",
        "colab": {
          "base_uri": "https://localhost:8080/"
        },
        "outputId": "1371e6a4-fbc2-4914-9ed7-7900de70e1e5"
      },
      "execution_count": null,
      "outputs": [
        {
          "output_type": "execute_result",
          "data": {
            "text/plain": [
              "array([nan, '41662/AL', 'STR21-00065', 'STR20-00021', 'STR22-049',\n",
              "       'STR20-00053'], dtype=object)"
            ]
          },
          "metadata": {},
          "execution_count": 11
        }
      ]
    },
    {
      "cell_type": "markdown",
      "source": [
        "Identifying missing data for numerical features"
      ],
      "metadata": {
        "id": "xF4666eXecbU"
      }
    },
    {
      "cell_type": "code",
      "source": [
        "df.dtypes\n",
        "#confirming that all numerical values are actually of data type float/integer"
      ],
      "metadata": {
        "id": "Bxm7D_slXmvO",
        "colab": {
          "base_uri": "https://localhost:8080/"
        },
        "outputId": "900ef794-4935-41d6-dfad-677d36c47ebc"
      },
      "execution_count": null,
      "outputs": [
        {
          "output_type": "execute_result",
          "data": {
            "text/plain": [
              "neighbourhood_group                object\n",
              "neighbourhood                      object\n",
              "latitude                          float64\n",
              "longitude                         float64\n",
              "room_type                          object\n",
              "price                               int64\n",
              "minimum_nights                      int64\n",
              "number_of_reviews                   int64\n",
              "reviews_per_month                 float64\n",
              "calculated_host_listings_count      int64\n",
              "availability_365                    int64\n",
              "number_of_reviews_ltm               int64\n",
              "license                            object\n",
              "dtype: object"
            ]
          },
          "metadata": {},
          "execution_count": 12
        }
      ]
    },
    {
      "cell_type": "code",
      "source": [
        "#The range of values that latitude can take is from -90 to 90. If there are any values outside this range they may indicate missing data \n",
        "df[\"latitude\"].describe()"
      ],
      "metadata": {
        "id": "kRkzgc_xcZ-P",
        "colab": {
          "base_uri": "https://localhost:8080/"
        },
        "outputId": "640ba192-63d6-4b4d-f972-b54c7a881fb7"
      },
      "execution_count": null,
      "outputs": [
        {
          "output_type": "execute_result",
          "data": {
            "text/plain": [
              "count    39881.000000\n",
              "mean        40.728870\n",
              "std          0.058623\n",
              "min         40.500314\n",
              "25%         40.687760\n",
              "50%         40.724545\n",
              "75%         40.763200\n",
              "max         40.928810\n",
              "Name: latitude, dtype: float64"
            ]
          },
          "metadata": {},
          "execution_count": 13
        }
      ]
    },
    {
      "cell_type": "code",
      "source": [
        "#The range of values that longitude can take is from -180 to 180. If there are any values outside this range they may indicate missing data \n",
        "df[\"longitude\"].describe()"
      ],
      "metadata": {
        "id": "p7hS8HtCfdhb",
        "colab": {
          "base_uri": "https://localhost:8080/"
        },
        "outputId": "5d402f49-3084-4842-e8c3-ed7cc1aca659"
      },
      "execution_count": null,
      "outputs": [
        {
          "output_type": "execute_result",
          "data": {
            "text/plain": [
              "count    39881.000000\n",
              "mean       -73.945665\n",
              "std          0.057870\n",
              "min        -74.269520\n",
              "25%        -73.983340\n",
              "50%        -73.953710\n",
              "75%        -73.925600\n",
              "max        -73.690060\n",
              "Name: longitude, dtype: float64"
            ]
          },
          "metadata": {},
          "execution_count": 14
        }
      ]
    },
    {
      "cell_type": "code",
      "source": [
        "df['price'].describe()"
      ],
      "metadata": {
        "id": "cXCEAiSCfv-O",
        "colab": {
          "base_uri": "https://localhost:8080/"
        },
        "outputId": "63c67b62-cf61-4bc0-e2cd-aa36bda8c80f"
      },
      "execution_count": null,
      "outputs": [
        {
          "output_type": "execute_result",
          "data": {
            "text/plain": [
              "count    39881.000000\n",
              "mean       194.849603\n",
              "std        353.170870\n",
              "min          0.000000\n",
              "25%         77.000000\n",
              "50%        130.000000\n",
              "75%        215.000000\n",
              "max      16500.000000\n",
              "Name: price, dtype: float64"
            ]
          },
          "metadata": {},
          "execution_count": 15
        }
      ]
    },
    {
      "cell_type": "code",
      "source": [
        "#any values equal to zero will be considered missing data, so we mark them as NaN\n",
        "df.loc[df['price'] == 0,'price'] = np.NaN"
      ],
      "metadata": {
        "id": "zmZYtNU6k1yP"
      },
      "execution_count": null,
      "outputs": []
    },
    {
      "cell_type": "code",
      "source": [
        "df['minimum_nights'].describe()"
      ],
      "metadata": {
        "id": "KgXHmmzHlde2",
        "colab": {
          "base_uri": "https://localhost:8080/"
        },
        "outputId": "4a39b576-ba90-4808-9cdb-9f283e1abd43"
      },
      "execution_count": null,
      "outputs": [
        {
          "output_type": "execute_result",
          "data": {
            "text/plain": [
              "count    39881.000000\n",
              "mean        19.131742\n",
              "std         31.432778\n",
              "min          1.000000\n",
              "25%          2.000000\n",
              "50%         14.000000\n",
              "75%         30.000000\n",
              "max       1250.000000\n",
              "Name: minimum_nights, dtype: float64"
            ]
          },
          "metadata": {},
          "execution_count": 17
        }
      ]
    },
    {
      "cell_type": "code",
      "source": [
        "#any values < zero will be considered missing data, so we mark them as NaN, if number of minimum nights is zero it means there are no restrictions on how long you need to rent for\n",
        "df.loc[df['minimum_nights'] < 0,'minimum_nights'] = np.NaN"
      ],
      "metadata": {
        "id": "PsSPOYgnk59W"
      },
      "execution_count": null,
      "outputs": []
    },
    {
      "cell_type": "code",
      "source": [
        "df[\"number_of_reviews\"].describe()\n",
        "#if there are zero reviews it does not mean there is missing data it just means there are actually no reviews"
      ],
      "metadata": {
        "id": "x4eevlG8mLSu",
        "colab": {
          "base_uri": "https://localhost:8080/"
        },
        "outputId": "e0866aa3-183e-4be9-b1da-6e8dc7387e71"
      },
      "execution_count": null,
      "outputs": [
        {
          "output_type": "execute_result",
          "data": {
            "text/plain": [
              "count    39881.000000\n",
              "mean        26.690855\n",
              "std         56.256044\n",
              "min          0.000000\n",
              "25%          1.000000\n",
              "50%          5.000000\n",
              "75%         25.000000\n",
              "max       1480.000000\n",
              "Name: number_of_reviews, dtype: float64"
            ]
          },
          "metadata": {},
          "execution_count": 19
        }
      ]
    },
    {
      "cell_type": "code",
      "source": [
        "df['reviews_per_month'].describe() #describe\n",
        "#range from 0 to just over 120 which implies there are no missing values"
      ],
      "metadata": {
        "id": "qVUSxx1_qwJe",
        "colab": {
          "base_uri": "https://localhost:8080/"
        },
        "outputId": "40d9b3a9-601e-430c-b851-a97b34b9e127"
      },
      "execution_count": null,
      "outputs": [
        {
          "output_type": "execute_result",
          "data": {
            "text/plain": [
              "count    31519.000000\n",
              "mean         1.244733\n",
              "std          1.991702\n",
              "min          0.010000\n",
              "25%          0.140000\n",
              "50%          0.560000\n",
              "75%          1.790000\n",
              "max        123.000000\n",
              "Name: reviews_per_month, dtype: float64"
            ]
          },
          "metadata": {},
          "execution_count": 20
        }
      ]
    },
    {
      "cell_type": "code",
      "source": [
        "df['calculated_host_listings_count'].describe() \n",
        "#range from 0 to just over just below 500 which implies there are no issues"
      ],
      "metadata": {
        "id": "YICOIq9IsKoF",
        "colab": {
          "base_uri": "https://localhost:8080/"
        },
        "outputId": "806096f0-3348-4cdb-f8d6-6c90a4dfab51"
      },
      "execution_count": null,
      "outputs": [
        {
          "output_type": "execute_result",
          "data": {
            "text/plain": [
              "count    39881.000000\n",
              "mean        16.931396\n",
              "std         59.597136\n",
              "min          1.000000\n",
              "25%          1.000000\n",
              "50%          1.000000\n",
              "75%          4.000000\n",
              "max        453.000000\n",
              "Name: calculated_host_listings_count, dtype: float64"
            ]
          },
          "metadata": {},
          "execution_count": 21
        }
      ]
    },
    {
      "cell_type": "code",
      "source": [
        "df[\"availability_365\"].describe()"
      ],
      "metadata": {
        "id": "SNAPewn6tnHl",
        "colab": {
          "base_uri": "https://localhost:8080/"
        },
        "outputId": "9f5696a1-54d1-47b8-9e7d-2c307bb895f4"
      },
      "execution_count": null,
      "outputs": [
        {
          "output_type": "execute_result",
          "data": {
            "text/plain": [
              "count    39881.000000\n",
              "mean       131.411675\n",
              "std        138.531669\n",
              "min         -1.000000\n",
              "25%          0.000000\n",
              "50%         75.000000\n",
              "75%        277.000000\n",
              "max        365.000000\n",
              "Name: availability_365, dtype: float64"
            ]
          },
          "metadata": {},
          "execution_count": 22
        }
      ]
    },
    {
      "cell_type": "code",
      "source": [
        "df.loc[df['availability_365'] < 0,'availability_365'] = np.NaN\n",
        "#min and max are -1 and 365 respectively. -1 is missing data which will be marked as NaN"
      ],
      "metadata": {
        "id": "MiTayof51iK6"
      },
      "execution_count": null,
      "outputs": []
    },
    {
      "cell_type": "code",
      "source": [
        "df[\"number_of_reviews_ltm\"].describe()\n",
        "#there is no indication of values that could mean missing data"
      ],
      "metadata": {
        "id": "REOofDcFuL6s",
        "colab": {
          "base_uri": "https://localhost:8080/"
        },
        "outputId": "2758c30c-e6e0-477d-820b-3bad6630ec8a"
      },
      "execution_count": null,
      "outputs": [
        {
          "output_type": "execute_result",
          "data": {
            "text/plain": [
              "count    39881.000000\n",
              "mean         7.754344\n",
              "std         18.784149\n",
              "min          0.000000\n",
              "25%          0.000000\n",
              "50%          1.000000\n",
              "75%          7.000000\n",
              "max        949.000000\n",
              "Name: number_of_reviews_ltm, dtype: float64"
            ]
          },
          "metadata": {},
          "execution_count": 24
        }
      ]
    },
    {
      "cell_type": "markdown",
      "source": [
        "1 a ii  \n",
        "Developing the modules that identify outlier data"
      ],
      "metadata": {
        "id": "lCmRudojY9-p"
      }
    },
    {
      "cell_type": "code",
      "source": [
        "#Outliers for price\n",
        "df.boxplot(column = [\"price\"])"
      ],
      "metadata": {
        "id": "WcOQNV8PjgWf",
        "colab": {
          "base_uri": "https://localhost:8080/",
          "height": 282
        },
        "outputId": "152cdcbe-7532-4a42-9a20-6517c5d35be5"
      },
      "execution_count": null,
      "outputs": [
        {
          "output_type": "execute_result",
          "data": {
            "text/plain": [
              "<matplotlib.axes._subplots.AxesSubplot at 0x7f6f2edd8790>"
            ]
          },
          "metadata": {},
          "execution_count": 25
        },
        {
          "output_type": "display_data",
          "data": {
            "text/plain": [
              "<Figure size 432x288 with 1 Axes>"
            ],
            "image/png": "[encoded data removed]"
          },
          "metadata": {
            "needs_background": "light"
          }
        }
      ]
    },
    {
      "cell_type": "code",
      "source": [
        "df['price'].hist()"
      ],
      "metadata": {
        "id": "bYpr4EGGrStU",
        "colab": {
          "base_uri": "https://localhost:8080/",
          "height": 282
        },
        "outputId": "dd3e4e21-7e6d-4791-8ac1-499466dfe9a4"
      },
      "execution_count": null,
      "outputs": [
        {
          "output_type": "execute_result",
          "data": {
            "text/plain": [
              "<matplotlib.axes._subplots.AxesSubplot at 0x7f6f2ebd8250>"
            ]
          },
          "metadata": {},
          "execution_count": 26
        },
        {
          "output_type": "display_data",
          "data": {
            "text/plain": [
              "<Figure size 432x288 with 1 Axes>"
            ],
            "image/png": "[encoded data removed]"
          },
          "metadata": {
            "needs_background": "light"
          }
        }
      ]
    },
    {
      "cell_type": "code",
      "source": [
        "#1bi- Seeing that the distribution is not gaussian we cannot use the standard deviation to identify outliers, we will use the interquartile range method\n",
        "q25, q75 = np.percentile(df['price'].dropna(), 25), np.percentile(df['price'].dropna(), 75)\n",
        "iqr = q75 - q25\n",
        "\n",
        "# calculate the outlier cutoff\n",
        "cut_off = iqr * 1.5  \n",
        "lower, upper = q25 - cut_off, q75 + cut_off\n",
        "\n",
        "# identify outliers\n",
        "outliers = [x for x in df['price'] if x < lower or x > upper]\n",
        "print('Identified outliers: %d' % len(outliers))\n",
        "\n",
        "outliers_removed = [x for x in df['price'] if x >= lower and x <= upper]\n",
        "print('Non-outlier observations: %d' % len(outliers_removed))\n",
        "#mark them NaN\n",
        "\n"
      ],
      "metadata": {
        "id": "N4CHBMU_oIyE",
        "colab": {
          "base_uri": "https://localhost:8080/"
        },
        "outputId": "64ed1104-13dd-4785-f31c-365c5e00521a"
      },
      "execution_count": null,
      "outputs": [
        {
          "output_type": "stream",
          "name": "stdout",
          "text": [
            "Identified outliers: 2757\n",
            "Non-outlier observations: 36506\n"
          ]
        }
      ]
    },
    {
      "cell_type": "code",
      "source": [
        "#We are marking the outliers as NaN so they can be imputed later on\n",
        "for index in range(df['price'].size):\n",
        "  if df['price'][index] < lower or df['price'][index] > upper:\n",
        "    df.loc[index,'price']= np.NaN\n",
        "df['price'].isna().sum()"
      ],
      "metadata": {
        "id": "bX5XRARtEWkN",
        "colab": {
          "base_uri": "https://localhost:8080/"
        },
        "outputId": "21cfa240-713e-41a2-aff3-5cc801432800"
      },
      "execution_count": null,
      "outputs": [
        {
          "output_type": "execute_result",
          "data": {
            "text/plain": [
              "3375"
            ]
          },
          "metadata": {},
          "execution_count": 28
        }
      ]
    },
    {
      "cell_type": "code",
      "source": [
        "df[\"latitude\"].hist() \n",
        "#1bi- The latitude shows a gaussian distribution so we can use the mean and standard deviation to identify outliers\n",
        "lat_mean, lat_std = np.mean(df['latitude']), np.std(df['latitude'])\n",
        "\n",
        "# identify the cut off\n",
        "cut_off = lat_std * 3\n",
        "\n",
        "# upper and lower bounds\n",
        "lower, upper = lat_mean - cut_off, lat_mean + cut_off\n",
        "print('lower bound is: {}'.format(lower))\n",
        "print('upper bound is: {}'.format(upper))\n",
        "\n",
        "# outliers\n",
        "outliers = [x for x in df['latitude'] if x < lower or x > upper] # notice here we used 'or'\n",
        "non_outliers = [x for x in df['latitude'] if x >= lower and x <= upper] # notice here we used 'and'\n",
        "print('Identified Outliers: {}'.format(len(outliers)))\n",
        "print('Non-Outlier Observations: {}'.format(len(df) - len(outliers)))\n",
        "#They have been identified as outliers but we do not have to treat them as such, these points could just be on the periphery but still part of New York"
      ],
      "metadata": {
        "id": "ismMgLC9tsAp",
        "colab": {
          "base_uri": "https://localhost:8080/",
          "height": 334
        },
        "outputId": "10cb3c58-e266-436b-e816-17e16d9e7392"
      },
      "execution_count": null,
      "outputs": [
        {
          "output_type": "stream",
          "name": "stdout",
          "text": [
            "lower bound is: 40.55300217317899\n",
            "upper bound is: 40.904738069759766\n",
            "Identified Outliers: 181\n",
            "Non-Outlier Observations: 39700\n"
          ]
        },
        {
          "output_type": "display_data",
          "data": {
            "text/plain": [
              "<Figure size 432x288 with 1 Axes>"
            ],
            "image/png": "[encoded data removed]"
          },
          "metadata": {
            "needs_background": "light"
          }
        }
      ]
    },
    {
      "cell_type": "code",
      "source": [
        "df[\"longitude\"].hist(bins=14) \n",
        "\n",
        "price_mean, price_std = np.mean(df['longitude']), np.std(df['longitude'])\n",
        "\n",
        "# identifying the cut off\n",
        "cut_off = price_std * 3\n",
        "\n",
        "# upper and lower bounds\n",
        "lower, upper = price_mean - cut_off, price_mean + cut_off\n",
        "print('lower bound is: {}'.format(lower))\n",
        "print('upper bound is: {}'.format(upper))\n",
        "\n",
        "# outliers\n",
        "outliers = [x for x in df['longitude'] if x < lower or x > upper] # notice here we used 'or'\n",
        "non_outliers = [x for x in df['longitude'] if x >= lower and x <= upper] # notice here we used 'and'\n",
        "print('Identified Outliers: {}'.format(len(outliers)))\n",
        "print('Non-Outlier Observations: {}'.format(len(df) - len(outliers)))\n",
        "\n",
        "#11bi-Similar to the latitude we use the standard deviaton because of the near gaussian distribution.There have been some outliers statistically identified however it would not be right to treat them as outliers\n",
        "#just because they are far away from the mean it does not mean they should be imputed, the values are still valid and simply represent listings on the outskirts for example"
      ],
      "metadata": {
        "id": "WUmteZbbu4H5",
        "colab": {
          "base_uri": "https://localhost:8080/",
          "height": 334
        },
        "outputId": "843fb1ef-2ddb-4d3f-93a5-5e6acd740e89"
      },
      "execution_count": null,
      "outputs": [
        {
          "output_type": "stream",
          "name": "stdout",
          "text": [
            "lower bound is: -74.1192733866953\n",
            "upper bound is: -73.77205616614141\n",
            "Identified Outliers: 1048\n",
            "Non-Outlier Observations: 38833\n"
          ]
        },
        {
          "output_type": "display_data",
          "data": {
            "text/plain": [
              "<Figure size 432x288 with 1 Axes>"
            ],
            "image/png": "[encoded data removed]"
          },
          "metadata": {
            "needs_background": "light"
          }
        }
      ]
    },
    {
      "cell_type": "code",
      "source": [
        "df.boxplot(column = [\"minimum_nights\"]) "
      ],
      "metadata": {
        "id": "35u9zEJH4-3U",
        "colab": {
          "base_uri": "https://localhost:8080/",
          "height": 283
        },
        "outputId": "727845f0-89d7-4aca-90a7-533a3e0ae0fe"
      },
      "execution_count": null,
      "outputs": [
        {
          "output_type": "execute_result",
          "data": {
            "text/plain": [
              "<matplotlib.axes._subplots.AxesSubplot at 0x7f6f2e320810>"
            ]
          },
          "metadata": {},
          "execution_count": 31
        },
        {
          "output_type": "display_data",
          "data": {
            "text/plain": [
              "<Figure size 432x288 with 1 Axes>"
            ],
            "image/png": "[encoded data removed]"
          },
          "metadata": {
            "needs_background": "light"
          }
        }
      ]
    },
    {
      "cell_type": "code",
      "source": [
        "df['minimum_nights'].hist()"
      ],
      "metadata": {
        "id": "2hUozMGV3Crc",
        "colab": {
          "base_uri": "https://localhost:8080/",
          "height": 282
        },
        "outputId": "f80e1c35-f965-454a-a6bb-2365e5ac53ff"
      },
      "execution_count": null,
      "outputs": [
        {
          "output_type": "execute_result",
          "data": {
            "text/plain": [
              "<matplotlib.axes._subplots.AxesSubplot at 0x7f6f2e504790>"
            ]
          },
          "metadata": {},
          "execution_count": 32
        },
        {
          "output_type": "display_data",
          "data": {
            "text/plain": [
              "<Figure size 432x288 with 1 Axes>"
            ],
            "image/png": "[encoded data removed]"
          },
          "metadata": {
            "needs_background": "light"
          }
        }
      ]
    },
    {
      "cell_type": "code",
      "source": [
        "df['minimum_nights'].describe()"
      ],
      "metadata": {
        "id": "tRZeiTEo3h9F",
        "colab": {
          "base_uri": "https://localhost:8080/"
        },
        "outputId": "820f0102-a8b1-4480-9807-106053c2738f"
      },
      "execution_count": null,
      "outputs": [
        {
          "output_type": "execute_result",
          "data": {
            "text/plain": [
              "count    39881.000000\n",
              "mean        19.131742\n",
              "std         31.432778\n",
              "min          1.000000\n",
              "25%          2.000000\n",
              "50%         14.000000\n",
              "75%         30.000000\n",
              "max       1250.000000\n",
              "Name: minimum_nights, dtype: float64"
            ]
          },
          "metadata": {},
          "execution_count": 33
        }
      ]
    },
    {
      "cell_type": "code",
      "source": [
        "q25, q75 = np.percentile(df['minimum_nights'].dropna(), 25), np.percentile(df['minimum_nights'].dropna(), 75)\n",
        "iqr = q75 - q25\n",
        "\n",
        "# calculate the outlier cutoff\n",
        "cut_off = iqr * 1.5\n",
        "lower, upper = q25 - cut_off, q75 + cut_off\n",
        "\n",
        "# identify outliers\n",
        "outliers = [x for x in df['minimum_nights'] if x < lower or x > upper]\n",
        "print('Identified outliers: %d' % len(outliers))\n",
        "\n",
        "outliers_removed = [x for x in df['minimum_nights'] if x >= lower and x <= upper]\n",
        "print('Non-outlier observations: %d' % len(outliers_removed))\n",
        "#1bi- The distribution of the price is very clearly not gaussian so we must use the interquartile range to identify outliers\n",
        "#If there is a number of values for price markedly higher, they may skew our models later on and need to be removed or imputed"
      ],
      "metadata": {
        "id": "SZwkUu1w2-1c",
        "colab": {
          "base_uri": "https://localhost:8080/"
        },
        "outputId": "1c8393ea-786a-4a07-df19-ca0f695e83c2"
      },
      "execution_count": null,
      "outputs": [
        {
          "output_type": "stream",
          "name": "stdout",
          "text": [
            "Identified outliers: 868\n",
            "Non-outlier observations: 39013\n"
          ]
        }
      ]
    },
    {
      "cell_type": "code",
      "source": [
        "#mark them NaN\n",
        "for index in range(df['minimum_nights'].size):\n",
        "  if df['minimum_nights'][index] < lower or df['minimum_nights'][index] > upper:\n",
        "    df.loc[index,'minimum_nights']= np.NaN\n",
        "df['minimum_nights'].isna().sum()"
      ],
      "metadata": {
        "colab": {
          "base_uri": "https://localhost:8080/"
        },
        "id": "Jx1m6G5V34A4",
        "outputId": "11cee546-6c2c-496a-d347-23aaf9b07dd0"
      },
      "execution_count": null,
      "outputs": [
        {
          "output_type": "execute_result",
          "data": {
            "text/plain": [
              "868"
            ]
          },
          "metadata": {},
          "execution_count": 35
        }
      ]
    },
    {
      "cell_type": "code",
      "source": [
        "df['number_of_reviews'].hist(bins=30)"
      ],
      "metadata": {
        "id": "NkbIOSna55vK",
        "colab": {
          "base_uri": "https://localhost:8080/",
          "height": 283
        },
        "outputId": "9217835e-4ac1-41bf-8b89-b2db12fe4e12"
      },
      "execution_count": null,
      "outputs": [
        {
          "output_type": "execute_result",
          "data": {
            "text/plain": [
              "<matplotlib.axes._subplots.AxesSubplot at 0x7f6f2e285cd0>"
            ]
          },
          "metadata": {},
          "execution_count": 36
        },
        {
          "output_type": "display_data",
          "data": {
            "text/plain": [
              "<Figure size 432x288 with 1 Axes>"
            ],
            "image/png": "[encoded data removed]"
          },
          "metadata": {
            "needs_background": "light"
          }
        }
      ]
    },
    {
      "cell_type": "code",
      "source": [
        "df['number_of_reviews'].describe()"
      ],
      "metadata": {
        "id": "sBBriWSH5APW",
        "colab": {
          "base_uri": "https://localhost:8080/"
        },
        "outputId": "4edaddad-6f6b-4c38-86f9-333f9bc34441"
      },
      "execution_count": null,
      "outputs": [
        {
          "output_type": "execute_result",
          "data": {
            "text/plain": [
              "count    39881.000000\n",
              "mean        26.690855\n",
              "std         56.256044\n",
              "min          0.000000\n",
              "25%          1.000000\n",
              "50%          5.000000\n",
              "75%         25.000000\n",
              "max       1480.000000\n",
              "Name: number_of_reviews, dtype: float64"
            ]
          },
          "metadata": {},
          "execution_count": 37
        }
      ]
    },
    {
      "cell_type": "code",
      "source": [
        "\n",
        "q25, q75 = np.percentile(df['number_of_reviews'], 25), np.percentile(df['number_of_reviews'], 75)\n",
        "iqr = q75 - q25\n",
        "\n",
        "# calculate the outlier cutoff\n",
        "cut_off = iqr * 1.5\n",
        "lower, upper = q25 - cut_off, q75 + cut_off\n",
        "\n",
        "# identify outliers\n",
        "outliers = [x for x in df['number_of_reviews'] if x < lower or x > upper]\n",
        "print('Identified outliers: %d' % len(outliers))\n",
        "\n",
        "outliers_removed = [x for x in df['number_of_reviews'] if x >= lower and x <= upper]\n",
        "print('Non-outlier observations: %d' % len(outliers_removed))\n",
        "#1bi- Again, the distribution is not gaussian so we will use the interquartile range. \n",
        "#It should be noted as well that such a large proportion are 0 and we can't identify them as outliers just because they have no reviews\n",
        "#given the variety of properties listed and that some properties are older than others, it would be inaccurate to identify larger number of reviews as outliers"
      ],
      "metadata": {
        "id": "uJWqe27GhwmL",
        "colab": {
          "base_uri": "https://localhost:8080/"
        },
        "outputId": "2b8cf8e9-bf4c-4b2a-e581-5a06dae794eb"
      },
      "execution_count": null,
      "outputs": [
        {
          "output_type": "stream",
          "name": "stdout",
          "text": [
            "Identified outliers: 5038\n",
            "Non-outlier observations: 34843\n"
          ]
        }
      ]
    },
    {
      "cell_type": "code",
      "source": [
        "df.boxplot(column = [\"calculated_host_listings_count\"])\n",
        "q25, q75 = np.percentile(df['calculated_host_listings_count'], 25), np.percentile(df['calculated_host_listings_count'], 75)\n",
        "iqr = q75 - q25\n",
        "\n",
        "# calculate the outlier cutoff\n",
        "cut_off = iqr * 1.5\n",
        "lower, upper = q25 - cut_off, q75 + cut_off\n",
        "\n",
        "# identify outliers\n",
        "outliers = [x for x in df['calculated_host_listings_count'] if x < lower or x > upper]\n",
        "print('Identified outliers: %d' % len(outliers))\n",
        "\n",
        "outliers_removed = [x for x in df['calculated_host_listings_count'] if x >= lower and x <= upper]\n",
        "print('Non-outlier observations: %d' % len(outliers_removed))\n",
        "#1bi- distribution is not normal, must use interquartile range\n",
        "#The calculated host listings count reflects how many other listings the owner has\n",
        "#while it is true a value of over 400 may appear striking, imputing this data would be inaccurate. These values could be from real estate companies \n",
        "#and changing them would not allow us to compare how these companies perform compared to owners with much fewer listings"
      ],
      "metadata": {
        "id": "bkxdPdVxk0eh",
        "colab": {
          "base_uri": "https://localhost:8080/",
          "height": 301
        },
        "outputId": "e77a8ace-9bad-472f-e76f-05b02368e1af"
      },
      "execution_count": null,
      "outputs": [
        {
          "output_type": "stream",
          "name": "stdout",
          "text": [
            "Identified outliers: 6033\n",
            "Non-outlier observations: 33848\n"
          ]
        },
        {
          "output_type": "display_data",
          "data": {
            "text/plain": [
              "<Figure size 432x288 with 1 Axes>"
            ],
            "image/png": "[encoded data removed]"
          },
          "metadata": {
            "needs_background": "light"
          }
        }
      ]
    },
    {
      "cell_type": "code",
      "source": [
        "df.boxplot(column = 'availability_365')\n",
        "q25, q75 = np.percentile(df['availability_365'].dropna(), 25), np.percentile(df['availability_365'].dropna(), 75)\n",
        "iqr = q75 - q25\n",
        "\n",
        "# calculate the outlier cutoff\n",
        "cut_off = iqr * 1.5\n",
        "lower, upper = q25 - cut_off, q75 + cut_off\n",
        "\n",
        "# identify outliers\n",
        "outliers = [x for x in df['availability_365'] if x < lower or x > upper]\n",
        "print('Identified outliers: %d' % len(outliers))\n",
        "\n",
        "outliers_removed = [x for x in df['availability_365'] if x >= lower and x <= upper]\n",
        "print('Non-outlier observations: %d' % len(outliers_removed))\n",
        "#1bi- distribution not gaussian- IQR used for outliers\n",
        "#no outliers detected which makes sense because all values are between 0 and 365. 0 cannot be an outlier because it just means the listing is fully booked. \n",
        "#365 means nobody has booked it which is just as a valid as fully booked"
      ],
      "metadata": {
        "id": "QZf9HYb_poGt",
        "colab": {
          "base_uri": "https://localhost:8080/",
          "height": 301
        },
        "outputId": "eba2aad8-dfb1-4c2e-e09d-42a23a687654"
      },
      "execution_count": null,
      "outputs": [
        {
          "output_type": "stream",
          "name": "stdout",
          "text": [
            "Identified outliers: 0\n",
            "Non-outlier observations: 39843\n"
          ]
        },
        {
          "output_type": "display_data",
          "data": {
            "text/plain": [
              "<Figure size 432x288 with 1 Axes>"
            ],
            "image/png": "[encoded data removed]"
          },
          "metadata": {
            "needs_background": "light"
          }
        }
      ]
    },
    {
      "cell_type": "code",
      "source": [
        "df['number_of_reviews_ltm'].hist()\n",
        "df['number_of_reviews_ltm'].hist(range= [0,365])\n",
        "\n",
        "q25, q75 = np.percentile(df['number_of_reviews_ltm'], 25), np.percentile(df['number_of_reviews_ltm'], 75)\n",
        "iqr = q75 - q25\n",
        "\n",
        "# calculate the outlier cutoff\n",
        "cut_off = iqr * 1.5\n",
        "lower, upper = q25 - cut_off, q75 + cut_off\n",
        "\n",
        "# identify outliers\n",
        "outliers = [x for x in df['number_of_reviews_ltm'] if x < lower or x > upper]\n",
        "print('Identified outliers: %d' % len(outliers))\n",
        "\n",
        "outliers_removed = [x for x in df['number_of_reviews_ltm'] if x >= lower and x <= upper]\n",
        "print('Non-outlier observations: %d' % len(outliers_removed))\n",
        "#1bi- Distribution not normal- IQR for outliers\n",
        "#Around 6000 points were identified as outliers which is over 15% of the values. This is too large of a number to be identified as outliers."
      ],
      "metadata": {
        "id": "spmoBDJ3rLLM",
        "colab": {
          "base_uri": "https://localhost:8080/",
          "height": 300
        },
        "outputId": "811028bc-c98b-415b-8b5c-85311ec433e5"
      },
      "execution_count": null,
      "outputs": [
        {
          "output_type": "stream",
          "name": "stdout",
          "text": [
            "Identified outliers: 6080\n",
            "Non-outlier observations: 33801\n"
          ]
        },
        {
          "output_type": "display_data",
          "data": {
            "text/plain": [
              "<Figure size 432x288 with 1 Axes>"
            ],
            "image/png": "[encoded data removed]"
          },
          "metadata": {
            "needs_background": "light"
          }
        }
      ]
    },
    {
      "cell_type": "markdown",
      "source": [
        "1aiii- Developing modules to identify anomalies"
      ],
      "metadata": {
        "id": "VTFemhN1WJE0"
      }
    },
    {
      "cell_type": "code",
      "source": [
        "#1bii-We felt that the number of reviews in the last twelve months had some anomalous data\n",
        "#For example, for a property to have over 800 reviews in the last twelve months would require multiple people to leave a review every single day\n",
        "#While this is not impossible, we felt it would be better to remove those with over 365 \n",
        "df.boxplot(column = ['number_of_reviews_ltm'])"
      ],
      "metadata": {
        "id": "Pkmk1TIw4Qiw",
        "colab": {
          "base_uri": "https://localhost:8080/",
          "height": 283
        },
        "outputId": "fa7b87de-b6b7-4db7-cad5-5f94fc0528fd"
      },
      "execution_count": null,
      "outputs": [
        {
          "output_type": "execute_result",
          "data": {
            "text/plain": [
              "<matplotlib.axes._subplots.AxesSubplot at 0x7f6f2e748190>"
            ]
          },
          "metadata": {},
          "execution_count": 42
        },
        {
          "output_type": "display_data",
          "data": {
            "text/plain": [
              "<Figure size 432x288 with 1 Axes>"
            ],
            "image/png": "[encoded data removed]"
          },
          "metadata": {
            "needs_background": "light"
          }
        }
      ]
    },
    {
      "cell_type": "code",
      "source": [
        "l = []\n",
        "for index in range(df['number_of_reviews_ltm'].size):\n",
        "  if df['number_of_reviews_ltm'][index] > 365:\n",
        "    l.append(index)\n",
        "df = df.drop(labels = l, axis = 0)"
      ],
      "metadata": {
        "id": "1R9OquXC_YUv"
      },
      "execution_count": null,
      "outputs": []
    },
    {
      "cell_type": "code",
      "source": [
        "#1-a-iii\n",
        "df['room_type'].unique()\n",
        "df['room_type'] = df['room_type'].replace('hotel room','Hotel room')\n",
        "#1bii-using the unique function we identified that some of labels for Hotel room were missing a capital letter"
      ],
      "metadata": {
        "id": "O8xGUIDsGVVy"
      },
      "execution_count": null,
      "outputs": []
    },
    {
      "cell_type": "markdown",
      "source": [
        "2a- Developing the modules to impute the data"
      ],
      "metadata": {
        "id": "KrtE3oi7aqn4"
      }
    },
    {
      "cell_type": "code",
      "source": [
        "#First we will check how many missin values there are in every column\n",
        "for col in df.columns:\n",
        "    num = df[col].isna().sum()\n",
        "    percentage = num / df.shape[0] * 100\n",
        "    print('column {}: {}, {:.2f}%'.format(col, num, percentage))"
      ],
      "metadata": {
        "id": "B30Ga11tupvi",
        "colab": {
          "base_uri": "https://localhost:8080/"
        },
        "outputId": "5fb53156-eb55-4f2f-e53e-5614d1957e7c"
      },
      "execution_count": null,
      "outputs": [
        {
          "output_type": "stream",
          "name": "stdout",
          "text": [
            "column neighbourhood_group: 0, 0.00%\n",
            "column neighbourhood: 0, 0.00%\n",
            "column latitude: 0, 0.00%\n",
            "column longitude: 0, 0.00%\n",
            "column room_type: 825, 2.07%\n",
            "column price: 3370, 8.45%\n",
            "column minimum_nights: 868, 2.18%\n",
            "column number_of_reviews: 0, 0.00%\n",
            "column reviews_per_month: 8362, 20.97%\n",
            "column calculated_host_listings_count: 0, 0.00%\n",
            "column availability_365: 38, 0.10%\n",
            "column number_of_reviews_ltm: 0, 0.00%\n",
            "column license: 39867, 99.99%\n"
          ]
        }
      ]
    },
    {
      "cell_type": "code",
      "source": [
        "#The license column has an excessive amount of missing values- the best option is to remove the column entirely\n",
        "df.drop(columns = ['license'])"
      ],
      "metadata": {
        "id": "Ns23bREH1qc9",
        "colab": {
          "base_uri": "https://localhost:8080/",
          "height": 644
        },
        "outputId": "e5b7c69c-64b7-4948-b3bb-58762eafcfed"
      },
      "execution_count": null,
      "outputs": [
        {
          "output_type": "execute_result",
          "data": {
            "text/plain": [
              "      neighbourhood_group        neighbourhood   latitude  longitude  \\\n",
              "0                Brooklyn           Greenpoint  40.737770 -73.953660   \n",
              "1                Brooklyn           Kensington  40.645290 -73.972380   \n",
              "2                  Queens            Ridgewood  40.703090 -73.899630   \n",
              "3                   Bronx           Mott Haven  40.806350 -73.922010   \n",
              "4               Manhattan  Morningside Heights  40.806300 -73.959850   \n",
              "...                   ...                  ...        ...        ...   \n",
              "39876           Manhattan         Ellis Island  40.718220 -74.037940   \n",
              "39877              Queens             Rosedale  40.647244 -73.720088   \n",
              "39878           Manhattan      Upper West Side  40.787320 -74.004470   \n",
              "39879            Brooklyn         Williamsburg  40.709192 -73.970121   \n",
              "39880           Manhattan         Ellis Island  40.718350 -74.044160   \n",
              "\n",
              "             room_type  price  minimum_nights  number_of_reviews  \\\n",
              "0           Hotel room  308.0             2.0                 42   \n",
              "1         Private room    NaN            30.0                  9   \n",
              "2      Entire home/apt  425.0            30.0                 13   \n",
              "3         Private room   60.0            30.0                  0   \n",
              "4         Private room   75.0            31.0                135   \n",
              "...                ...    ...             ...                ...   \n",
              "39876  Entire home/apt  135.0             NaN                  2   \n",
              "39877  Entire home/apt  180.0             1.0                  5   \n",
              "39878  Entire home/apt  240.0             5.0                 18   \n",
              "39879  Entire home/apt  400.0            30.0                  0   \n",
              "39880     Private room   40.0             1.0                 15   \n",
              "\n",
              "       reviews_per_month  calculated_host_listings_count  availability_365  \\\n",
              "0                   0.30                              30             217.0   \n",
              "1                   0.11                               9             356.0   \n",
              "2                   0.10                               6             365.0   \n",
              "3                    NaN                               1              83.0   \n",
              "4                   0.95                               1             219.0   \n",
              "...                  ...                             ...               ...   \n",
              "39876               0.04                               7             365.0   \n",
              "39877               1.92                               1               0.0   \n",
              "39878               2.87                               1             152.0   \n",
              "39879                NaN                               1             311.0   \n",
              "39880               0.91                               1               0.0   \n",
              "\n",
              "       number_of_reviews_ltm  \n",
              "0                          4  \n",
              "1                          0  \n",
              "2                          0  \n",
              "3                          0  \n",
              "4                          4  \n",
              "...                      ...  \n",
              "39876                      0  \n",
              "39877                      5  \n",
              "39878                     18  \n",
              "39879                      0  \n",
              "39880                      4  \n",
              "\n",
              "[39872 rows x 12 columns]"
            ],
            "text/html": [
              "\n",
              "  <div id=\"df-2622b276-5d95-44b0-b52e-5672bfecf54f\">\n",
              "    <div class=\"colab-df-container\">\n",
              "      <div>\n",
              "<style scoped>\n",
              "    .dataframe tbody tr th:only-of-type {\n",
              "        vertical-align: middle;\n",
              "    }\n",
              "\n",
              "    .dataframe tbody tr th {\n",
              "        vertical-align: top;\n",
              "    }\n",
              "\n",
              "    .dataframe thead th {\n",
              "        text-align: right;\n",
              "    }\n",
              "</style>\n",
              "<table border=\"1\" class=\"dataframe\">\n",
              "  <thead>\n",
              "    <tr style=\"text-align: right;\">\n",
              "      <th></th>\n",
              "      <th>neighbourhood_group</th>\n",
              "      <th>neighbourhood</th>\n",
              "      <th>latitude</th>\n",
              "      <th>longitude</th>\n",
              "      <th>room_type</th>\n",
              "      <th>price</th>\n",
              "      <th>minimum_nights</th>\n",
              "      <th>number_of_reviews</th>\n",
              "      <th>reviews_per_month</th>\n",
              "      <th>calculated_host_listings_count</th>\n",
              "      <th>availability_365</th>\n",
              "      <th>number_of_reviews_ltm</th>\n",
              "    </tr>\n",
              "  </thead>\n",
              "  <tbody>\n",
              "    <tr>\n",
              "      <th>0</th>\n",
              "      <td>Brooklyn</td>\n",
              "      <td>Greenpoint</td>\n",
              "      <td>40.737770</td>\n",
              "      <td>-73.953660</td>\n",
              "      <td>Hotel room</td>\n",
              "      <td>308.0</td>\n",
              "      <td>2.0</td>\n",
              "      <td>42</td>\n",
              "      <td>0.30</td>\n",
              "      <td>30</td>\n",
              "      <td>217.0</td>\n",
              "      <td>4</td>\n",
              "    </tr>\n",
              "    <tr>\n",
              "      <th>1</th>\n",
              "      <td>Brooklyn</td>\n",
              "      <td>Kensington</td>\n",
              "      <td>40.645290</td>\n",
              "      <td>-73.972380</td>\n",
              "      <td>Private room</td>\n",
              "      <td>NaN</td>\n",
              "      <td>30.0</td>\n",
              "      <td>9</td>\n",
              "      <td>0.11</td>\n",
              "      <td>9</td>\n",
              "      <td>356.0</td>\n",
              "      <td>0</td>\n",
              "    </tr>\n",
              "    <tr>\n",
              "      <th>2</th>\n",
              "      <td>Queens</td>\n",
              "      <td>Ridgewood</td>\n",
              "      <td>40.703090</td>\n",
              "      <td>-73.899630</td>\n",
              "      <td>Entire home/apt</td>\n",
              "      <td>425.0</td>\n",
              "      <td>30.0</td>\n",
              "      <td>13</td>\n",
              "      <td>0.10</td>\n",
              "      <td>6</td>\n",
              "      <td>365.0</td>\n",
              "      <td>0</td>\n",
              "    </tr>\n",
              "    <tr>\n",
              "      <th>3</th>\n",
              "      <td>Bronx</td>\n",
              "      <td>Mott Haven</td>\n",
              "      <td>40.806350</td>\n",
              "      <td>-73.922010</td>\n",
              "      <td>Private room</td>\n",
              "      <td>60.0</td>\n",
              "      <td>30.0</td>\n",
              "      <td>0</td>\n",
              "      <td>NaN</td>\n",
              "      <td>1</td>\n",
              "      <td>83.0</td>\n",
              "      <td>0</td>\n",
              "    </tr>\n",
              "    <tr>\n",
              "      <th>4</th>\n",
              "      <td>Manhattan</td>\n",
              "      <td>Morningside Heights</td>\n",
              "      <td>40.806300</td>\n",
              "      <td>-73.959850</td>\n",
              "      <td>Private room</td>\n",
              "      <td>75.0</td>\n",
              "      <td>31.0</td>\n",
              "      <td>135</td>\n",
              "      <td>0.95</td>\n",
              "      <td>1</td>\n",
              "      <td>219.0</td>\n",
              "      <td>4</td>\n",
              "    </tr>\n",
              "    <tr>\n",
              "      <th>...</th>\n",
              "      <td>...</td>\n",
              "      <td>...</td>\n",
              "      <td>...</td>\n",
              "      <td>...</td>\n",
              "      <td>...</td>\n",
              "      <td>...</td>\n",
              "      <td>...</td>\n",
              "      <td>...</td>\n",
              "      <td>...</td>\n",
              "      <td>...</td>\n",
              "      <td>...</td>\n",
              "      <td>...</td>\n",
              "    </tr>\n",
              "    <tr>\n",
              "      <th>39876</th>\n",
              "      <td>Manhattan</td>\n",
              "      <td>Ellis Island</td>\n",
              "      <td>40.718220</td>\n",
              "      <td>-74.037940</td>\n",
              "      <td>Entire home/apt</td>\n",
              "      <td>135.0</td>\n",
              "      <td>NaN</td>\n",
              "      <td>2</td>\n",
              "      <td>0.04</td>\n",
              "      <td>7</td>\n",
              "      <td>365.0</td>\n",
              "      <td>0</td>\n",
              "    </tr>\n",
              "    <tr>\n",
              "      <th>39877</th>\n",
              "      <td>Queens</td>\n",
              "      <td>Rosedale</td>\n",
              "      <td>40.647244</td>\n",
              "      <td>-73.720088</td>\n",
              "      <td>Entire home/apt</td>\n",
              "      <td>180.0</td>\n",
              "      <td>1.0</td>\n",
              "      <td>5</td>\n",
              "      <td>1.92</td>\n",
              "      <td>1</td>\n",
              "      <td>0.0</td>\n",
              "      <td>5</td>\n",
              "    </tr>\n",
              "    <tr>\n",
              "      <th>39878</th>\n",
              "      <td>Manhattan</td>\n",
              "      <td>Upper West Side</td>\n",
              "      <td>40.787320</td>\n",
              "      <td>-74.004470</td>\n",
              "      <td>Entire home/apt</td>\n",
              "      <td>240.0</td>\n",
              "      <td>5.0</td>\n",
              "      <td>18</td>\n",
              "      <td>2.87</td>\n",
              "      <td>1</td>\n",
              "      <td>152.0</td>\n",
              "      <td>18</td>\n",
              "    </tr>\n",
              "    <tr>\n",
              "      <th>39879</th>\n",
              "      <td>Brooklyn</td>\n",
              "      <td>Williamsburg</td>\n",
              "      <td>40.709192</td>\n",
              "      <td>-73.970121</td>\n",
              "      <td>Entire home/apt</td>\n",
              "      <td>400.0</td>\n",
              "      <td>30.0</td>\n",
              "      <td>0</td>\n",
              "      <td>NaN</td>\n",
              "      <td>1</td>\n",
              "      <td>311.0</td>\n",
              "      <td>0</td>\n",
              "    </tr>\n",
              "    <tr>\n",
              "      <th>39880</th>\n",
              "      <td>Manhattan</td>\n",
              "      <td>Ellis Island</td>\n",
              "      <td>40.718350</td>\n",
              "      <td>-74.044160</td>\n",
              "      <td>Private room</td>\n",
              "      <td>40.0</td>\n",
              "      <td>1.0</td>\n",
              "      <td>15</td>\n",
              "      <td>0.91</td>\n",
              "      <td>1</td>\n",
              "      <td>0.0</td>\n",
              "      <td>4</td>\n",
              "    </tr>\n",
              "  </tbody>\n",
              "</table>\n",
              "<p>39872 rows × 12 columns</p>\n",
              "</div>\n",
              "      <button class=\"colab-df-convert\" onclick=\"convertToInteractive('df-2622b276-5d95-44b0-b52e-5672bfecf54f')\"\n",
              "              title=\"Convert this dataframe to an interactive table.\"\n",
              "              style=\"display:none;\">\n",
              "        \n",
              "  <svg xmlns=\"http://www.w3.org/2000/svg\" height=\"24px\"viewBox=\"0 0 24 24\"\n",
              "       width=\"24px\">\n",
              "    <path d=\"M0 0h24v24H0V0z\" fill=\"none\"/>\n",
              "    <path d=\"M18.56 5.44l.94 2.06.94-2.06 2.06-.94-2.06-.94-.94-2.06-.94 2.06-2.06.94zm-11 1L8.5 8.5l.94-2.06 2.06-.94-2.06-.94L8.5 2.5l-.94 2.06-2.06.94zm10 10l.94 2.06.94-2.06 2.06-.94-2.06-.94-.94-2.06-.94 2.06-2.06.94z\"/><path d=\"M17.41 7.96l-1.37-1.37c-.4-.4-.92-.59-1.43-.59-.52 0-1.04.2-1.43.59L10.3 9.45l-7.72 7.72c-.78.78-.78 2.05 0 2.83L4 21.41c.39.39.9.59 1.41.59.51 0 1.02-.2 1.41-.59l7.78-7.78 2.81-2.81c.8-.78.8-2.07 0-2.86zM5.41 20L4 18.59l7.72-7.72 1.47 1.35L5.41 20z\"/>\n",
              "  </svg>\n",
              "      </button>\n",
              "      \n",
              "  <style>\n",
              "    .colab-df-container {\n",
              "      display:flex;\n",
              "      flex-wrap:wrap;\n",
              "      gap: 12px;\n",
              "    }\n",
              "\n",
              "    .colab-df-convert {\n",
              "      background-color: #E8F0FE;\n",
              "      border: none;\n",
              "      border-radius: 50%;\n",
              "      cursor: pointer;\n",
              "      display: none;\n",
              "      fill: #1967D2;\n",
              "      height: 32px;\n",
              "      padding: 0 0 0 0;\n",
              "      width: 32px;\n",
              "    }\n",
              "\n",
              "    .colab-df-convert:hover {\n",
              "      background-color: #E2EBFA;\n",
              "      box-shadow: 0px 1px 2px rgba(60, 64, 67, 0.3), 0px 1px 3px 1px rgba(60, 64, 67, 0.15);\n",
              "      fill: #174EA6;\n",
              "    }\n",
              "\n",
              "    [theme=dark] .colab-df-convert {\n",
              "      background-color: #3B4455;\n",
              "      fill: #D2E3FC;\n",
              "    }\n",
              "\n",
              "    [theme=dark] .colab-df-convert:hover {\n",
              "      background-color: #434B5C;\n",
              "      box-shadow: 0px 1px 3px 1px rgba(0, 0, 0, 0.15);\n",
              "      filter: drop-shadow(0px 1px 2px rgba(0, 0, 0, 0.3));\n",
              "      fill: #FFFFFF;\n",
              "    }\n",
              "  </style>\n",
              "\n",
              "      <script>\n",
              "        const buttonEl =\n",
              "          document.querySelector('#df-2622b276-5d95-44b0-b52e-5672bfecf54f button.colab-df-convert');\n",
              "        buttonEl.style.display =\n",
              "          google.colab.kernel.accessAllowed ? 'block' : 'none';\n",
              "\n",
              "        async function convertToInteractive(key) {\n",
              "          const element = document.querySelector('#df-2622b276-5d95-44b0-b52e-5672bfecf54f');\n",
              "          const dataTable =\n",
              "            await google.colab.kernel.invokeFunction('convertToInteractive',\n",
              "                                                     [key], {});\n",
              "          if (!dataTable) return;\n",
              "\n",
              "          const docLinkHtml = 'Like what you see? Visit the ' +\n",
              "            '<a target=\"_blank\" href=https://colab.research.google.com/notebooks/data_table.ipynb>data table notebook</a>'\n",
              "            + ' to learn more about interactive tables.';\n",
              "          element.innerHTML = '';\n",
              "          dataTable['output_type'] = 'display_data';\n",
              "          await google.colab.output.renderOutput(dataTable, element);\n",
              "          const docLink = document.createElement('div');\n",
              "          docLink.innerHTML = docLinkHtml;\n",
              "          element.appendChild(docLink);\n",
              "        }\n",
              "      </script>\n",
              "    </div>\n",
              "  </div>\n",
              "  "
            ]
          },
          "metadata": {},
          "execution_count": 46
        }
      ]
    },
    {
      "cell_type": "code",
      "source": [
        "#2a\n",
        "from sklearn.impute import SimpleImputer\n",
        "\n",
        "imputer = SimpleImputer(strategy='most_frequent',missing_values = np.NaN)\n",
        "\n",
        "# Split the data between input variables and target variable\n",
        "X = np.array(df.loc[:, df.columns == 'room_type'])\n",
        "\n",
        "print('X.shape: {}'.format(X.shape))\n",
        "\n",
        "print('Missing - before imputation: {}'.format(sum(pd.isnull(X).flatten())))\n",
        "\n",
        "# Apply imputation to the input variables (X)\n",
        "X_trans = imputer.fit_transform(X)\n",
        "\n",
        "# check for missing values after imputation\n",
        "print('Missing - after imputation: {}'.format(sum(pd.isnull(X_trans).flatten())))\n",
        "\n",
        "df['room_type'] = X_trans\n",
        "\n",
        "#2b- the room_type column involves categorical data so there is no mean or median to impute with.\n",
        "#An easy and efficient option is the mode. \n",
        "#Although statistical imputation may reduce variabliity, it is still a reasonable option and will not affect the most frequent occurence."
      ],
      "metadata": {
        "id": "b8l3ZbOhlfKF",
        "colab": {
          "base_uri": "https://localhost:8080/"
        },
        "outputId": "3b6b963d-6a09-4287-9895-97fac633cceb"
      },
      "execution_count": null,
      "outputs": [
        {
          "output_type": "stream",
          "name": "stdout",
          "text": [
            "X.shape: (39872, 1)\n",
            "Missing - before imputation: 825\n",
            "Missing - after imputation: 0\n"
          ]
        }
      ]
    },
    {
      "cell_type": "code",
      "source": [
        "df['minimum_nights'].hist()"
      ],
      "metadata": {
        "id": "tDjg8cmihO0I",
        "colab": {
          "base_uri": "https://localhost:8080/",
          "height": 284
        },
        "outputId": "433a5775-4510-4b4e-b808-8c2ebc1dede5"
      },
      "execution_count": null,
      "outputs": [
        {
          "output_type": "execute_result",
          "data": {
            "text/plain": [
              "<matplotlib.axes._subplots.AxesSubplot at 0x7f6f2e0bb590>"
            ]
          },
          "metadata": {},
          "execution_count": 48
        },
        {
          "output_type": "display_data",
          "data": {
            "text/plain": [
              "<Figure size 432x288 with 1 Axes>"
            ],
            "image/png": "[encoded data removed]"
          },
          "metadata": {
            "needs_background": "light"
          }
        }
      ]
    },
    {
      "cell_type": "code",
      "source": [
        "#2a\n",
        "from sklearn.impute import SimpleImputer\n",
        "\n",
        "imputer = SimpleImputer(strategy='median',missing_values = np.NaN)\n",
        "\n",
        "# Split the data between input variables and target variable\n",
        "X = np.array(df.loc[:, df.columns == 'minimum_nights'])\n",
        "\n",
        "print('X.shape: {}'.format(X.shape))\n",
        "\n",
        "print('Missing - before imputation: {}'.format(np.sum(np.isnan(X).flatten())))\n",
        "\n",
        "# Apply imputation to the input variables (X)\n",
        "X_trans = imputer.fit_transform(X)\n",
        "\n",
        "# check for missing values after imputation\n",
        "print('Missing - after imputation: {}'.format(np.sum(np.isnan(X_trans).flatten())))\n",
        "\n",
        "df['minimum_nights'] = X_trans\n",
        "#2b- The minimum nights column is numerical however the distribution is not gaussian at all. \n",
        "#Statistical imputation with the median would be most appropriate and would not majorly affect the central tendencies of the column"
      ],
      "metadata": {
        "id": "fKj6j1PHH5oc",
        "colab": {
          "base_uri": "https://localhost:8080/"
        },
        "outputId": "f182445b-c9b5-4926-9874-6108db2b1989"
      },
      "execution_count": null,
      "outputs": [
        {
          "output_type": "stream",
          "name": "stdout",
          "text": [
            "X.shape: (39872, 1)\n",
            "Missing - before imputation: 868\n",
            "Missing - after imputation: 0\n"
          ]
        }
      ]
    },
    {
      "cell_type": "code",
      "source": [
        "df['price'].hist()"
      ],
      "metadata": {
        "id": "KvsOuDekrAt1",
        "colab": {
          "base_uri": "https://localhost:8080/",
          "height": 282
        },
        "outputId": "5cde7e9b-8d5b-4976-d859-71ce2e66c112"
      },
      "execution_count": null,
      "outputs": [
        {
          "output_type": "execute_result",
          "data": {
            "text/plain": [
              "<matplotlib.axes._subplots.AxesSubplot at 0x7f6f2e0cb210>"
            ]
          },
          "metadata": {},
          "execution_count": 50
        },
        {
          "output_type": "display_data",
          "data": {
            "text/plain": [
              "<Figure size 432x288 with 1 Axes>"
            ],
            "image/png": "[encoded data removed]"
          },
          "metadata": {
            "needs_background": "light"
          }
        }
      ]
    },
    {
      "cell_type": "code",
      "source": [
        "#2a\n",
        "from sklearn.impute import SimpleImputer\n",
        "\n",
        "imputer = SimpleImputer(strategy='mean',missing_values = np.NaN)\n",
        "\n",
        "# Split the data between input variables and target variable\n",
        "X = np.array(df.loc[:, df.columns == 'price'])\n",
        "\n",
        "print('X.shape: {}'.format(X.shape))\n",
        "\n",
        "print('Missing - before imputation: {}'.format(np.sum(np.isnan(X).flatten())))\n",
        "\n",
        "# Apply imputation to the input variables (X)\n",
        "X_trans = imputer.fit_transform(X)\n",
        "\n",
        "# check for missing values after imputation\n",
        "print('Missing - after imputation: {}'.format(np.sum(np.isnan(X_trans).flatten())))\n",
        "\n",
        "df['price'] = X_trans\n",
        "#2b- after removing the outliers, the price column shows a much more gaussian distribution which would make it appropriate to impute with the mean\n",
        "#This would keep the central tendencies and dsitribution as they are "
      ],
      "metadata": {
        "id": "j1zUCU0irgib",
        "colab": {
          "base_uri": "https://localhost:8080/"
        },
        "outputId": "a71986a9-610e-4846-f736-ce95a55839eb"
      },
      "execution_count": null,
      "outputs": [
        {
          "output_type": "stream",
          "name": "stdout",
          "text": [
            "X.shape: (39872, 1)\n",
            "Missing - before imputation: 3370\n",
            "Missing - after imputation: 0\n"
          ]
        }
      ]
    },
    {
      "cell_type": "code",
      "source": [
        "print(len(df[df['number_of_reviews'] == 0]))\n",
        "print(sum(df['reviews_per_month'].isna()))\n",
        "#everytime number of reviews is 0 the reviews per month is null\n",
        "#there is no information to calculate the reviews per month so it has been left as blank but we feel it would be appropriate to put it as 0\n",
        "#to indiciate the reviews per month is 0\n",
        "df['reviews_per_month'] = df['reviews_per_month'].replace(np.NaN,0)"
      ],
      "metadata": {
        "id": "61rcmmj1yF7p",
        "colab": {
          "base_uri": "https://localhost:8080/"
        },
        "outputId": "629facf9-f8b7-4b29-b53f-b47d8623d7f6"
      },
      "execution_count": null,
      "outputs": [
        {
          "output_type": "stream",
          "name": "stdout",
          "text": [
            "8362\n",
            "8362\n"
          ]
        }
      ]
    },
    {
      "cell_type": "code",
      "source": [
        "df = df.dropna(subset = ['availability_365'])\n",
        "#the number of missing values in the availability is minimal so removing these rows is not an issue"
      ],
      "metadata": {
        "id": "PYJg-jqnzm4k"
      },
      "execution_count": null,
      "outputs": []
    },
    {
      "cell_type": "code",
      "source": [
        "df.to_csv('/content/apartmentsNYC_Clean.csv')"
      ],
      "metadata": {
        "id": "AGmcoIKv05sZ"
      },
      "execution_count": null,
      "outputs": []
    },
    {
      "cell_type": "markdown",
      "source": [
        "6a- Developing modules to engineer the columns"
      ],
      "metadata": {
        "id": "MjIG8XTTqwMo"
      }
    },
    {
      "cell_type": "code",
      "source": [
        "df = pd.read_csv('/content/apartmentsNYC_Clean.csv')\n",
        "df.head()\n",
        "df_num = df[['latitude','longitude','price','minimum_nights','number_of_reviews','reviews_per_month','calculated_host_listings_count','availability_365','number_of_reviews_ltm']]\n",
        "fig = df_num.hist()\n",
        "fig = plt.gcf()\n",
        "fig.set_size_inches(16, 10)\n",
        "plt.tight_layout()\n",
        "#6b- Splitting the mumerical and categorical variables and then plotting histograms of the numerical variables \n",
        "#to see their distribution\n"
      ],
      "metadata": {
        "colab": {
          "base_uri": "https://localhost:8080/",
          "height": 511
        },
        "id": "pxQ8C_YU4ct9",
        "outputId": "c2e7d4eb-c661-4fe9-aaa1-65bda152ac92"
      },
      "execution_count": null,
      "outputs": [
        {
          "output_type": "display_data",
          "data": {
            "text/plain": [
              "<Figure size 1152x720 with 9 Axes>"
            ],
            "image/png": "[encoded data removed]"
          },
          "metadata": {
            "needs_background": "light"
          }
        }
      ]
    },
    {
      "cell_type": "markdown",
      "source": [
        "6b- We chose to scale our numerical columns because we will be applying a transform later on so the scaling may help the transform and we will also be running feature selection and clustering algorithms and the scales of the columns vastly differ which would interfere negatively with the performance of the algorithms"
      ],
      "metadata": {
        "id": "KOFe0562vbLz"
      }
    },
    {
      "cell_type": "code",
      "source": [
        "from sklearn.preprocessing import StandardScaler\n",
        "sscaler = StandardScaler()\n",
        "df[['latitude']]=sscaler.fit_transform(df[['latitude']])\n",
        "df[['longitude']]=sscaler.fit_transform(df[['longitude']])\n",
        "df[['price']]=sscaler.fit_transform(df[['price']])\n",
        "#6b- The longitude, latitude and price all show a distribution close to gaussian \n",
        "#so it would be appropriate to use standardized scaling using the mean and standard deviation"
      ],
      "metadata": {
        "id": "wFy5jR_N7m_q"
      },
      "execution_count": null,
      "outputs": []
    },
    {
      "cell_type": "code",
      "source": [
        "from sklearn.preprocessing import MinMaxScaler\n",
        "mmscaler = MinMaxScaler()\n",
        "df[['minimum_nights']]=mmscaler.fit_transform(df[['minimum_nights']])\n",
        "df[['number_of_reviews']]=mmscaler.fit_transform(df[['number_of_reviews']])\n",
        "df[['calculated_host_listings_count']]=mmscaler.fit_transform(df[['calculated_host_listings_count']])\n",
        "df[['number_of_reviews_ltm']]=mmscaler.fit_transform(df[['number_of_reviews_ltm']])\n",
        "df[['availability_365']]=mmscaler.fit_transform(df[['availability_365']])\n",
        "df[['reviews_per_month']]=mmscaler.fit_transform(df[['reviews_per_month']])\n",
        "#6b-The rest of the numerical columns all show a distribution far from gaussian so they would require min max scaling\n"
      ],
      "metadata": {
        "id": "-a8cnUwxBsIY"
      },
      "execution_count": null,
      "outputs": []
    },
    {
      "cell_type": "code",
      "source": [
        "df.head()"
      ],
      "metadata": {
        "colab": {
          "base_uri": "https://localhost:8080/",
          "height": 357
        },
        "id": "S-yN7PhoDNHB",
        "outputId": "78e73e07-f50d-4d0a-db95-c1af4d51659a"
      },
      "execution_count": null,
      "outputs": [
        {
          "output_type": "execute_result",
          "data": {
            "text/plain": [
              "   Unnamed: 0 neighbourhood_group        neighbourhood  latitude  longitude  \\\n",
              "0           0            Brooklyn           Greenpoint  0.151685  -0.138572   \n",
              "1           1            Brooklyn           Kensington -1.425460  -0.462081   \n",
              "2           2              Queens            Ridgewood -0.439744   0.795145   \n",
              "3           3               Bronx           Mott Haven  1.321243   0.408386   \n",
              "4           4           Manhattan  Morningside Heights  1.320390  -0.245544   \n",
              "\n",
              "         room_type     price  minimum_nights  number_of_reviews  \\\n",
              "0       Hotel room  1.878823        0.014493           0.041584   \n",
              "1     Private room  0.000085        0.420290           0.008911   \n",
              "2  Entire home/apt  3.235439        0.420290           0.012871   \n",
              "3     Private room -0.996739        0.420290           0.000000   \n",
              "4     Private room -0.822814        0.434783           0.133663   \n",
              "\n",
              "   reviews_per_month  calculated_host_listings_count  availability_365  \\\n",
              "0           0.007099                        0.064159          0.594521   \n",
              "1           0.002603                        0.017699          0.975342   \n",
              "2           0.002366                        0.011062          1.000000   \n",
              "3           0.000000                        0.000000          0.227397   \n",
              "4           0.022480                        0.000000          0.600000   \n",
              "\n",
              "   number_of_reviews_ltm license  \n",
              "0               0.011799     NaN  \n",
              "1               0.000000     NaN  \n",
              "2               0.000000     NaN  \n",
              "3               0.000000     NaN  \n",
              "4               0.011799     NaN  "
            ],
            "text/html": [
              "\n",
              "  <div id=\"df-dc979f45-f150-4ecc-affd-04b56d6b53c0\">\n",
              "    <div class=\"colab-df-container\">\n",
              "      <div>\n",
              "<style scoped>\n",
              "    .dataframe tbody tr th:only-of-type {\n",
              "        vertical-align: middle;\n",
              "    }\n",
              "\n",
              "    .dataframe tbody tr th {\n",
              "        vertical-align: top;\n",
              "    }\n",
              "\n",
              "    .dataframe thead th {\n",
              "        text-align: right;\n",
              "    }\n",
              "</style>\n",
              "<table border=\"1\" class=\"dataframe\">\n",
              "  <thead>\n",
              "    <tr style=\"text-align: right;\">\n",
              "      <th></th>\n",
              "      <th>Unnamed: 0</th>\n",
              "      <th>neighbourhood_group</th>\n",
              "      <th>neighbourhood</th>\n",
              "      <th>latitude</th>\n",
              "      <th>longitude</th>\n",
              "      <th>room_type</th>\n",
              "      <th>price</th>\n",
              "      <th>minimum_nights</th>\n",
              "      <th>number_of_reviews</th>\n",
              "      <th>reviews_per_month</th>\n",
              "      <th>calculated_host_listings_count</th>\n",
              "      <th>availability_365</th>\n",
              "      <th>number_of_reviews_ltm</th>\n",
              "      <th>license</th>\n",
              "    </tr>\n",
              "  </thead>\n",
              "  <tbody>\n",
              "    <tr>\n",
              "      <th>0</th>\n",
              "      <td>0</td>\n",
              "      <td>Brooklyn</td>\n",
              "      <td>Greenpoint</td>\n",
              "      <td>0.151685</td>\n",
              "      <td>-0.138572</td>\n",
              "      <td>Hotel room</td>\n",
              "      <td>1.878823</td>\n",
              "      <td>0.014493</td>\n",
              "      <td>0.041584</td>\n",
              "      <td>0.007099</td>\n",
              "      <td>0.064159</td>\n",
              "      <td>0.594521</td>\n",
              "      <td>0.011799</td>\n",
              "      <td>NaN</td>\n",
              "    </tr>\n",
              "    <tr>\n",
              "      <th>1</th>\n",
              "      <td>1</td>\n",
              "      <td>Brooklyn</td>\n",
              "      <td>Kensington</td>\n",
              "      <td>-1.425460</td>\n",
              "      <td>-0.462081</td>\n",
              "      <td>Private room</td>\n",
              "      <td>0.000085</td>\n",
              "      <td>0.420290</td>\n",
              "      <td>0.008911</td>\n",
              "      <td>0.002603</td>\n",
              "      <td>0.017699</td>\n",
              "      <td>0.975342</td>\n",
              "      <td>0.000000</td>\n",
              "      <td>NaN</td>\n",
              "    </tr>\n",
              "    <tr>\n",
              "      <th>2</th>\n",
              "      <td>2</td>\n",
              "      <td>Queens</td>\n",
              "      <td>Ridgewood</td>\n",
              "      <td>-0.439744</td>\n",
              "      <td>0.795145</td>\n",
              "      <td>Entire home/apt</td>\n",
              "      <td>3.235439</td>\n",
              "      <td>0.420290</td>\n",
              "      <td>0.012871</td>\n",
              "      <td>0.002366</td>\n",
              "      <td>0.011062</td>\n",
              "      <td>1.000000</td>\n",
              "      <td>0.000000</td>\n",
              "      <td>NaN</td>\n",
              "    </tr>\n",
              "    <tr>\n",
              "      <th>3</th>\n",
              "      <td>3</td>\n",
              "      <td>Bronx</td>\n",
              "      <td>Mott Haven</td>\n",
              "      <td>1.321243</td>\n",
              "      <td>0.408386</td>\n",
              "      <td>Private room</td>\n",
              "      <td>-0.996739</td>\n",
              "      <td>0.420290</td>\n",
              "      <td>0.000000</td>\n",
              "      <td>0.000000</td>\n",
              "      <td>0.000000</td>\n",
              "      <td>0.227397</td>\n",
              "      <td>0.000000</td>\n",
              "      <td>NaN</td>\n",
              "    </tr>\n",
              "    <tr>\n",
              "      <th>4</th>\n",
              "      <td>4</td>\n",
              "      <td>Manhattan</td>\n",
              "      <td>Morningside Heights</td>\n",
              "      <td>1.320390</td>\n",
              "      <td>-0.245544</td>\n",
              "      <td>Private room</td>\n",
              "      <td>-0.822814</td>\n",
              "      <td>0.434783</td>\n",
              "      <td>0.133663</td>\n",
              "      <td>0.022480</td>\n",
              "      <td>0.000000</td>\n",
              "      <td>0.600000</td>\n",
              "      <td>0.011799</td>\n",
              "      <td>NaN</td>\n",
              "    </tr>\n",
              "  </tbody>\n",
              "</table>\n",
              "</div>\n",
              "      <button class=\"colab-df-convert\" onclick=\"convertToInteractive('df-dc979f45-f150-4ecc-affd-04b56d6b53c0')\"\n",
              "              title=\"Convert this dataframe to an interactive table.\"\n",
              "              style=\"display:none;\">\n",
              "        \n",
              "  <svg xmlns=\"http://www.w3.org/2000/svg\" height=\"24px\"viewBox=\"0 0 24 24\"\n",
              "       width=\"24px\">\n",
              "    <path d=\"M0 0h24v24H0V0z\" fill=\"none\"/>\n",
              "    <path d=\"M18.56 5.44l.94 2.06.94-2.06 2.06-.94-2.06-.94-.94-2.06-.94 2.06-2.06.94zm-11 1L8.5 8.5l.94-2.06 2.06-.94-2.06-.94L8.5 2.5l-.94 2.06-2.06.94zm10 10l.94 2.06.94-2.06 2.06-.94-2.06-.94-.94-2.06-.94 2.06-2.06.94z\"/><path d=\"M17.41 7.96l-1.37-1.37c-.4-.4-.92-.59-1.43-.59-.52 0-1.04.2-1.43.59L10.3 9.45l-7.72 7.72c-.78.78-.78 2.05 0 2.83L4 21.41c.39.39.9.59 1.41.59.51 0 1.02-.2 1.41-.59l7.78-7.78 2.81-2.81c.8-.78.8-2.07 0-2.86zM5.41 20L4 18.59l7.72-7.72 1.47 1.35L5.41 20z\"/>\n",
              "  </svg>\n",
              "      </button>\n",
              "      \n",
              "  <style>\n",
              "    .colab-df-container {\n",
              "      display:flex;\n",
              "      flex-wrap:wrap;\n",
              "      gap: 12px;\n",
              "    }\n",
              "\n",
              "    .colab-df-convert {\n",
              "      background-color: #E8F0FE;\n",
              "      border: none;\n",
              "      border-radius: 50%;\n",
              "      cursor: pointer;\n",
              "      display: none;\n",
              "      fill: #1967D2;\n",
              "      height: 32px;\n",
              "      padding: 0 0 0 0;\n",
              "      width: 32px;\n",
              "    }\n",
              "\n",
              "    .colab-df-convert:hover {\n",
              "      background-color: #E2EBFA;\n",
              "      box-shadow: 0px 1px 2px rgba(60, 64, 67, 0.3), 0px 1px 3px 1px rgba(60, 64, 67, 0.15);\n",
              "      fill: #174EA6;\n",
              "    }\n",
              "\n",
              "    [theme=dark] .colab-df-convert {\n",
              "      background-color: #3B4455;\n",
              "      fill: #D2E3FC;\n",
              "    }\n",
              "\n",
              "    [theme=dark] .colab-df-convert:hover {\n",
              "      background-color: #434B5C;\n",
              "      box-shadow: 0px 1px 3px 1px rgba(0, 0, 0, 0.15);\n",
              "      filter: drop-shadow(0px 1px 2px rgba(0, 0, 0, 0.3));\n",
              "      fill: #FFFFFF;\n",
              "    }\n",
              "  </style>\n",
              "\n",
              "      <script>\n",
              "        const buttonEl =\n",
              "          document.querySelector('#df-dc979f45-f150-4ecc-affd-04b56d6b53c0 button.colab-df-convert');\n",
              "        buttonEl.style.display =\n",
              "          google.colab.kernel.accessAllowed ? 'block' : 'none';\n",
              "\n",
              "        async function convertToInteractive(key) {\n",
              "          const element = document.querySelector('#df-dc979f45-f150-4ecc-affd-04b56d6b53c0');\n",
              "          const dataTable =\n",
              "            await google.colab.kernel.invokeFunction('convertToInteractive',\n",
              "                                                     [key], {});\n",
              "          if (!dataTable) return;\n",
              "\n",
              "          const docLinkHtml = 'Like what you see? Visit the ' +\n",
              "            '<a target=\"_blank\" href=https://colab.research.google.com/notebooks/data_table.ipynb>data table notebook</a>'\n",
              "            + ' to learn more about interactive tables.';\n",
              "          element.innerHTML = '';\n",
              "          dataTable['output_type'] = 'display_data';\n",
              "          await google.colab.output.renderOutput(dataTable, element);\n",
              "          const docLink = document.createElement('div');\n",
              "          docLink.innerHTML = docLinkHtml;\n",
              "          element.appendChild(docLink);\n",
              "        }\n",
              "      </script>\n",
              "    </div>\n",
              "  </div>\n",
              "  "
            ]
          },
          "metadata": {},
          "execution_count": 58
        }
      ]
    },
    {
      "cell_type": "code",
      "source": [
        "df_num = df[['latitude','longitude','price','minimum_nights','number_of_reviews','reviews_per_month','calculated_host_listings_count','availability_365','number_of_reviews_ltm']]\n",
        "\n",
        "from sklearn.preprocessing import PowerTransformer\n",
        "from sklearn.pipeline import Pipeline\n",
        "from sklearn.preprocessing import StandardScaler\n",
        "\n",
        "pipe = Pipeline(steps=[('yeo-johnson', PowerTransformer(method='yeo-johnson'))])\n",
        "\n",
        "X_trans = pipe.fit_transform(df_num)\n",
        "\n",
        "X_trans_df = pd.DataFrame(X_trans, columns=df_num.columns)\n",
        "#6b- after scaling all te numrical columns we decided to apply a power transform to make the distribution of the variables more gaussian\n",
        "#we applied a yeo-johnson transformation because it permits negative numbers, which are abundant in our dataset\n",
        "#and we did not want to apply a scaler again to remove the negatives. \n",
        "#The more gaussian distribution following the transform will lead to improved performance in the machine learning algorithms later on"
      ],
      "metadata": {
        "id": "sB0Rz9iL7DAm"
      },
      "execution_count": null,
      "outputs": []
    },
    {
      "cell_type": "code",
      "source": [
        "for col in X_trans_df.columns:\n",
        "  df[col] = X_trans_df[col]"
      ],
      "metadata": {
        "id": "H1S7ym_Sz6w4"
      },
      "execution_count": null,
      "outputs": []
    },
    {
      "cell_type": "code",
      "source": [
        "fig = df.hist()\n",
        "fig = plt.gcf()\n",
        "fig.set_size_inches(16, 10)\n",
        "plt.tight_layout()"
      ],
      "metadata": {
        "colab": {
          "base_uri": "https://localhost:8080/",
          "height": 511
        },
        "id": "JC_aAqrEE6g-",
        "outputId": "7096d342-053e-42b2-aa4b-41cd16d8d265"
      },
      "execution_count": null,
      "outputs": [
        {
          "output_type": "display_data",
          "data": {
            "text/plain": [
              "<Figure size 1152x720 with 12 Axes>"
            ],
            "image/png": "[encoded data removed]"
          },
          "metadata": {
            "needs_background": "light"
          }
        }
      ]
    },
    {
      "cell_type": "markdown",
      "source": [
        "6b- For the categorical variables, we chose to encode them with OneHotEncoding so they could be represented numerically. We needed to encode them because the algorithms we would be running later such as kmeans cannot operate on categorical data"
      ],
      "metadata": {
        "id": "quQElH2YHS81"
      }
    },
    {
      "cell_type": "code",
      "source": [
        "df_ohe = df.copy()\n",
        "one_hot_1 = pd.get_dummies(df_ohe,prefix = 'neigh_group' ,columns=['neighbourhood_group'],drop_first=False)\n",
        "one_hot_1.insert(loc=2, column='neighbourhood_group', value=df.neighbourhood_group.values)\n",
        "df = one_hot_1"
      ],
      "metadata": {
        "id": "b0icZyKFHECT"
      },
      "execution_count": null,
      "outputs": []
    },
    {
      "cell_type": "code",
      "source": [
        "df_ohe = df.copy()\n",
        "one_hot_1 = pd.get_dummies(df_ohe,prefix = 'room_type' ,columns=['room_type'],drop_first=False)\n",
        "one_hot_1.insert(loc=2, column='room_type', value=df.room_type.values)\n",
        "df = one_hot_1"
      ],
      "metadata": {
        "id": "Au2pDYUYJF5b"
      },
      "execution_count": null,
      "outputs": []
    },
    {
      "cell_type": "code",
      "source": [
        "df_ohe = df.copy()\n",
        "one_hot_1 = pd.get_dummies(df_ohe,prefix = 'neighbourhood' ,columns=['neighbourhood'],drop_first=False)\n",
        "one_hot_1.insert(loc=2, column='neighbourhood', value=df.neighbourhood.values)\n",
        "df = one_hot_1"
      ],
      "metadata": {
        "id": "2q4YSxi7JpCz"
      },
      "execution_count": null,
      "outputs": []
    },
    {
      "cell_type": "code",
      "source": [
        "df = df.drop(columns = [\"neighbourhood\",\"room_type\",\"neighbourhood_group\",\"license\"])"
      ],
      "metadata": {
        "id": "wQfe_2LBOCPM",
        "colab": {
          "base_uri": "https://localhost:8080/",
          "height": 311
        },
        "outputId": "ef168ce3-6325-46e1-8821-16af51f49688"
      },
      "execution_count": null,
      "outputs": [
        {
          "output_type": "error",
          "ename": "KeyError",
          "evalue": "ignored",
          "traceback": [
            "\u001b[0;31m---------------------------------------------------------------------------\u001b[0m",
            "\u001b[0;31mKeyError\u001b[0m                                  Traceback (most recent call last)",
            "\u001b[0;32m<ipython-input-78-163553a33c40>\u001b[0m in \u001b[0;36m<module>\u001b[0;34m\u001b[0m\n\u001b[0;32m----> 1\u001b[0;31m \u001b[0mdf\u001b[0m \u001b[0;34m=\u001b[0m \u001b[0mdf\u001b[0m\u001b[0;34m.\u001b[0m\u001b[0mdrop\u001b[0m\u001b[0;34m(\u001b[0m\u001b[0mcolumns\u001b[0m \u001b[0;34m=\u001b[0m \u001b[0;34m[\u001b[0m\u001b[0;34m\"neighbourhood\"\u001b[0m\u001b[0;34m,\u001b[0m\u001b[0;34m\"room_type\"\u001b[0m\u001b[0;34m,\u001b[0m\u001b[0;34m\"neighbourhood_group\"\u001b[0m\u001b[0;34m,\u001b[0m\u001b[0;34m\"license\"\u001b[0m\u001b[0;34m]\u001b[0m\u001b[0;34m)\u001b[0m\u001b[0;34m\u001b[0m\u001b[0;34m\u001b[0m\u001b[0m\n\u001b[0m",
            "\u001b[0;32m/usr/local/lib/python3.7/dist-packages/pandas/util/_decorators.py\u001b[0m in \u001b[0;36mwrapper\u001b[0;34m(*args, **kwargs)\u001b[0m\n\u001b[1;32m    309\u001b[0m                     \u001b[0mstacklevel\u001b[0m\u001b[0;34m=\u001b[0m\u001b[0mstacklevel\u001b[0m\u001b[0;34m,\u001b[0m\u001b[0;34m\u001b[0m\u001b[0;34m\u001b[0m\u001b[0m\n\u001b[1;32m    310\u001b[0m                 )\n\u001b[0;32m--> 311\u001b[0;31m             \u001b[0;32mreturn\u001b[0m \u001b[0mfunc\u001b[0m\u001b[0;34m(\u001b[0m\u001b[0;34m*\u001b[0m\u001b[0margs\u001b[0m\u001b[0;34m,\u001b[0m \u001b[0;34m**\u001b[0m\u001b[0mkwargs\u001b[0m\u001b[0;34m)\u001b[0m\u001b[0;34m\u001b[0m\u001b[0;34m\u001b[0m\u001b[0m\n\u001b[0m\u001b[1;32m    312\u001b[0m \u001b[0;34m\u001b[0m\u001b[0m\n\u001b[1;32m    313\u001b[0m         \u001b[0;32mreturn\u001b[0m \u001b[0mwrapper\u001b[0m\u001b[0;34m\u001b[0m\u001b[0;34m\u001b[0m\u001b[0m\n",
            "\u001b[0;32m/usr/local/lib/python3.7/dist-packages/pandas/core/frame.py\u001b[0m in \u001b[0;36mdrop\u001b[0;34m(self, labels, axis, index, columns, level, inplace, errors)\u001b[0m\n\u001b[1;32m   4911\u001b[0m             \u001b[0mlevel\u001b[0m\u001b[0;34m=\u001b[0m\u001b[0mlevel\u001b[0m\u001b[0;34m,\u001b[0m\u001b[0;34m\u001b[0m\u001b[0;34m\u001b[0m\u001b[0m\n\u001b[1;32m   4912\u001b[0m             \u001b[0minplace\u001b[0m\u001b[0;34m=\u001b[0m\u001b[0minplace\u001b[0m\u001b[0;34m,\u001b[0m\u001b[0;34m\u001b[0m\u001b[0;34m\u001b[0m\u001b[0m\n\u001b[0;32m-> 4913\u001b[0;31m             \u001b[0merrors\u001b[0m\u001b[0;34m=\u001b[0m\u001b[0merrors\u001b[0m\u001b[0;34m,\u001b[0m\u001b[0;34m\u001b[0m\u001b[0;34m\u001b[0m\u001b[0m\n\u001b[0m\u001b[1;32m   4914\u001b[0m         )\n\u001b[1;32m   4915\u001b[0m \u001b[0;34m\u001b[0m\u001b[0m\n",
            "\u001b[0;32m/usr/local/lib/python3.7/dist-packages/pandas/core/generic.py\u001b[0m in \u001b[0;36mdrop\u001b[0;34m(self, labels, axis, index, columns, level, inplace, errors)\u001b[0m\n\u001b[1;32m   4148\u001b[0m         \u001b[0;32mfor\u001b[0m \u001b[0maxis\u001b[0m\u001b[0;34m,\u001b[0m \u001b[0mlabels\u001b[0m \u001b[0;32min\u001b[0m \u001b[0maxes\u001b[0m\u001b[0;34m.\u001b[0m\u001b[0mitems\u001b[0m\u001b[0;34m(\u001b[0m\u001b[0;34m)\u001b[0m\u001b[0;34m:\u001b[0m\u001b[0;34m\u001b[0m\u001b[0;34m\u001b[0m\u001b[0m\n\u001b[1;32m   4149\u001b[0m             \u001b[0;32mif\u001b[0m \u001b[0mlabels\u001b[0m \u001b[0;32mis\u001b[0m \u001b[0;32mnot\u001b[0m \u001b[0;32mNone\u001b[0m\u001b[0;34m:\u001b[0m\u001b[0;34m\u001b[0m\u001b[0;34m\u001b[0m\u001b[0m\n\u001b[0;32m-> 4150\u001b[0;31m                 \u001b[0mobj\u001b[0m \u001b[0;34m=\u001b[0m \u001b[0mobj\u001b[0m\u001b[0;34m.\u001b[0m\u001b[0m_drop_axis\u001b[0m\u001b[0;34m(\u001b[0m\u001b[0mlabels\u001b[0m\u001b[0;34m,\u001b[0m \u001b[0maxis\u001b[0m\u001b[0;34m,\u001b[0m \u001b[0mlevel\u001b[0m\u001b[0;34m=\u001b[0m\u001b[0mlevel\u001b[0m\u001b[0;34m,\u001b[0m \u001b[0merrors\u001b[0m\u001b[0;34m=\u001b[0m\u001b[0merrors\u001b[0m\u001b[0;34m)\u001b[0m\u001b[0;34m\u001b[0m\u001b[0;34m\u001b[0m\u001b[0m\n\u001b[0m\u001b[1;32m   4151\u001b[0m \u001b[0;34m\u001b[0m\u001b[0m\n\u001b[1;32m   4152\u001b[0m         \u001b[0;32mif\u001b[0m \u001b[0minplace\u001b[0m\u001b[0;34m:\u001b[0m\u001b[0;34m\u001b[0m\u001b[0;34m\u001b[0m\u001b[0m\n",
            "\u001b[0;32m/usr/local/lib/python3.7/dist-packages/pandas/core/generic.py\u001b[0m in \u001b[0;36m_drop_axis\u001b[0;34m(self, labels, axis, level, errors)\u001b[0m\n\u001b[1;32m   4183\u001b[0m                 \u001b[0mnew_axis\u001b[0m \u001b[0;34m=\u001b[0m \u001b[0maxis\u001b[0m\u001b[0;34m.\u001b[0m\u001b[0mdrop\u001b[0m\u001b[0;34m(\u001b[0m\u001b[0mlabels\u001b[0m\u001b[0;34m,\u001b[0m \u001b[0mlevel\u001b[0m\u001b[0;34m=\u001b[0m\u001b[0mlevel\u001b[0m\u001b[0;34m,\u001b[0m \u001b[0merrors\u001b[0m\u001b[0;34m=\u001b[0m\u001b[0merrors\u001b[0m\u001b[0;34m)\u001b[0m\u001b[0;34m\u001b[0m\u001b[0;34m\u001b[0m\u001b[0m\n\u001b[1;32m   4184\u001b[0m             \u001b[0;32melse\u001b[0m\u001b[0;34m:\u001b[0m\u001b[0;34m\u001b[0m\u001b[0;34m\u001b[0m\u001b[0m\n\u001b[0;32m-> 4185\u001b[0;31m                 \u001b[0mnew_axis\u001b[0m \u001b[0;34m=\u001b[0m \u001b[0maxis\u001b[0m\u001b[0;34m.\u001b[0m\u001b[0mdrop\u001b[0m\u001b[0;34m(\u001b[0m\u001b[0mlabels\u001b[0m\u001b[0;34m,\u001b[0m \u001b[0merrors\u001b[0m\u001b[0;34m=\u001b[0m\u001b[0merrors\u001b[0m\u001b[0;34m)\u001b[0m\u001b[0;34m\u001b[0m\u001b[0;34m\u001b[0m\u001b[0m\n\u001b[0m\u001b[1;32m   4186\u001b[0m             \u001b[0mresult\u001b[0m \u001b[0;34m=\u001b[0m \u001b[0mself\u001b[0m\u001b[0;34m.\u001b[0m\u001b[0mreindex\u001b[0m\u001b[0;34m(\u001b[0m\u001b[0;34m**\u001b[0m\u001b[0;34m{\u001b[0m\u001b[0maxis_name\u001b[0m\u001b[0;34m:\u001b[0m \u001b[0mnew_axis\u001b[0m\u001b[0;34m}\u001b[0m\u001b[0;34m)\u001b[0m\u001b[0;34m\u001b[0m\u001b[0;34m\u001b[0m\u001b[0m\n\u001b[1;32m   4187\u001b[0m \u001b[0;34m\u001b[0m\u001b[0m\n",
            "\u001b[0;32m/usr/local/lib/python3.7/dist-packages/pandas/core/indexes/base.py\u001b[0m in \u001b[0;36mdrop\u001b[0;34m(self, labels, errors)\u001b[0m\n\u001b[1;32m   6015\u001b[0m         \u001b[0;32mif\u001b[0m \u001b[0mmask\u001b[0m\u001b[0;34m.\u001b[0m\u001b[0many\u001b[0m\u001b[0;34m(\u001b[0m\u001b[0;34m)\u001b[0m\u001b[0;34m:\u001b[0m\u001b[0;34m\u001b[0m\u001b[0;34m\u001b[0m\u001b[0m\n\u001b[1;32m   6016\u001b[0m             \u001b[0;32mif\u001b[0m \u001b[0merrors\u001b[0m \u001b[0;34m!=\u001b[0m \u001b[0;34m\"ignore\"\u001b[0m\u001b[0;34m:\u001b[0m\u001b[0;34m\u001b[0m\u001b[0;34m\u001b[0m\u001b[0m\n\u001b[0;32m-> 6017\u001b[0;31m                 \u001b[0;32mraise\u001b[0m \u001b[0mKeyError\u001b[0m\u001b[0;34m(\u001b[0m\u001b[0;34mf\"{labels[mask]} not found in axis\"\u001b[0m\u001b[0;34m)\u001b[0m\u001b[0;34m\u001b[0m\u001b[0;34m\u001b[0m\u001b[0m\n\u001b[0m\u001b[1;32m   6018\u001b[0m             \u001b[0mindexer\u001b[0m \u001b[0;34m=\u001b[0m \u001b[0mindexer\u001b[0m\u001b[0;34m[\u001b[0m\u001b[0;34m~\u001b[0m\u001b[0mmask\u001b[0m\u001b[0;34m]\u001b[0m\u001b[0;34m\u001b[0m\u001b[0;34m\u001b[0m\u001b[0m\n\u001b[1;32m   6019\u001b[0m         \u001b[0;32mreturn\u001b[0m \u001b[0mself\u001b[0m\u001b[0;34m.\u001b[0m\u001b[0mdelete\u001b[0m\u001b[0;34m(\u001b[0m\u001b[0mindexer\u001b[0m\u001b[0;34m)\u001b[0m\u001b[0;34m\u001b[0m\u001b[0;34m\u001b[0m\u001b[0m\n",
            "\u001b[0;31mKeyError\u001b[0m: \"['neighbourhood' 'room_type' 'neighbourhood_group' 'license'] not found in axis\""
          ]
        }
      ]
    },
    {
      "cell_type": "markdown",
      "source": [
        "7- Implementing two feature selection algorithms\n",
        "We chose availability_365 as our target variable as a reflection of how booked each property is. In this way, our feature selection will be picking the variables that provide the most information on the availability. "
      ],
      "metadata": {
        "id": "WgpdI0h3KMTa"
      }
    },
    {
      "cell_type": "code",
      "source": [
        "# Split the data into X and y\n",
        "X = df.loc[:, df.columns != 'availability_365']\n",
        "y = df.loc[:, df.columns == 'availability_365']\n",
        "print(X.shape)\n",
        "print(y.shape)"
      ],
      "metadata": {
        "colab": {
          "base_uri": "https://localhost:8080/"
        },
        "id": "ggyCNlEgLxgx",
        "outputId": "53205e12-30de-41a3-9c22-dd50df3331e8"
      },
      "execution_count": null,
      "outputs": [
        {
          "output_type": "stream",
          "name": "stdout",
          "text": [
            "(39834, 261)\n",
            "(39834, 1)\n"
          ]
        }
      ]
    },
    {
      "cell_type": "code",
      "source": [
        "from sklearn.model_selection import train_test_split\n",
        "\n",
        "X_train, X_test, y_train, y_test = train_test_split(X, y, test_size=0.20, random_state=42)\n",
        "\n",
        "print(X_train.shape)\n",
        "print(y_train.shape)\n",
        "print(X_test.shape)\n",
        "print(y_test.shape)"
      ],
      "metadata": {
        "colab": {
          "base_uri": "https://localhost:8080/"
        },
        "id": "fD3t5VlVOh9w",
        "outputId": "fca48883-ffe1-49b2-b336-95eaffc87144"
      },
      "execution_count": null,
      "outputs": [
        {
          "output_type": "stream",
          "name": "stdout",
          "text": [
            "(31867, 261)\n",
            "(31867, 1)\n",
            "(7967, 261)\n",
            "(7967, 1)\n"
          ]
        }
      ]
    },
    {
      "cell_type": "code",
      "source": [
        "#Implementing recursive feature elimination\n",
        "from sklearn.tree import DecisionTreeRegressor\n",
        "from sklearn.feature_selection import RFE\n",
        "\n",
        "NUM_FEATURES_RFE = 8\n",
        "model = DecisionTreeRegressor()\n",
        "feature_names = [col for col in df.columns if col != 'availability_365']"
      ],
      "metadata": {
        "id": "x-FSVev8OyOp"
      },
      "execution_count": null,
      "outputs": []
    },
    {
      "cell_type": "code",
      "source": [
        "selector = RFE(estimator=model, n_features_to_select=NUM_FEATURES_RFE)\n",
        "fit = selector.fit(X_train, y_train)\n",
        "\n",
        "# Getting Feature rankings and names and selected features\n",
        "print(\"Num Features: %d\" % fit.n_features_)\n",
        "print(\"Selected Features: %s\" % fit.support_)\n",
        "print(\"Feature Ranking: %s\" % fit.ranking_)\n",
        "selected = []\n",
        "for i in range(len(fit.support_)):\n",
        "    if fit.support_[i]:\n",
        "        selected.append(feature_names[i])\n",
        "print('Selected Features: ', selected)"
      ],
      "metadata": {
        "colab": {
          "base_uri": "https://localhost:8080/"
        },
        "id": "nn0YioMDPKcQ",
        "outputId": "89a4ad23-7363-4de1-df21-e33cdc9425ec"
      },
      "execution_count": null,
      "outputs": [
        {
          "output_type": "stream",
          "name": "stdout",
          "text": [
            "Num Features: 8\n",
            "Selected Features: [ True  True  True  True  True  True  True  True False False False False\n",
            " False False False False False False False False False False False False\n",
            " False False False False False False False False False False False False\n",
            " False False False False False False False False False False False False\n",
            " False False False False False False False False False False False False\n",
            " False False False False False False False False False False False False\n",
            " False False False False False False False False False False False False\n",
            " False False False False False False False False False False False False\n",
            " False False False False False False False False False False False False\n",
            " False False False False False False False False False False False False\n",
            " False False False False False False False False False False False False\n",
            " False False False False False False False False False False False False\n",
            " False False False False False False False False False False False False\n",
            " False False False False False False False False False False False False\n",
            " False False False False False False False False False False False False\n",
            " False False False False False False False False False False False False\n",
            " False False False False False False False False False False False False\n",
            " False False False False False False False False False False False False\n",
            " False False False False False False False False False False False False\n",
            " False False False False False False False False False False False False\n",
            " False False False False False False False False False False False False\n",
            " False False False False False False False False False]\n",
            "Feature Ranking: [  1   1   1   1   1   1   1   1  12  17   4  10  66   3  27   2  24 104\n",
            " 137 206  57  21 150 133 141 196 120 127 186  11 251 189 108 149 119 249\n",
            "  72 139 221 176 178 240 171  97  71  86 252   6 172  60  83 219 210  88\n",
            "  20 222  40 125 116 122 103 144  28 233 148 151 123 170 130 128 218  53\n",
            " 211 220  14  80  84  64 247 194  89 165  35  22  26 163  37  25 193 136\n",
            " 204 114  44 183 115  87 241 195  38  33 102  54 198  18  96 169  98 155\n",
            "  67 138 242 152 131 232  77  74  34 254 201  50 132  93  29  51 209   7\n",
            "  19 111 143 243 159 107 214 246 203 177  82  47  79 157  85  75 112 140\n",
            "  36 235  99 205 124 231  41  76   9 164 239 216 182  92 190 179 181   8\n",
            "  78 208  68 200 113 161  95 199 160  30 237 166 187 244 217 228  94  16\n",
            " 174 153 229 253 154 156  39  56 145 250  65 224 212 146 168 135  46 117\n",
            "  31 110 185 180 121  48 167  49 173 105 188 106 215 100 234 230  81 126\n",
            " 248  52 118 191  73  62 109 236  61 142 184  63  58  43  42 134 225 175\n",
            " 245  90  69 197 226 227  15  13 129 147  91 158  32 192 101  23 202 207\n",
            " 162  70   5 213  55  59 223 238  45]\n",
            "Selected Features:  ['latitude', 'longitude', 'price', 'minimum_nights', 'number_of_reviews', 'reviews_per_month', 'calculated_host_listings_count', 'number_of_reviews_ltm']\n"
          ]
        }
      ]
    },
    {
      "cell_type": "markdown",
      "source": [
        "8. The recursive feature elimination algorithm gave us the top 8 columns as latitude, longitude, price, minimum_nights, number_of_reviews, reviews_per_month, calculated_host_listings_count, number_of_reviews_ltm. The latitude and longitude being important makes a lot of sense- these are proxies for the neighborhood group and neighborhood and is in line with what the EDA told us on the way the price can vary significantly across areas but a clear trend can be identified. The price being important is also very logical, the demand changes with the price and this is reflected in the EDA. The number of reviews being important is not so clear and maybe if we had an indication of how positive or negative the reviews were it would be of more help.\n",
        "\n",
        "The random forest regressor showed similar importance with the latitude and longitude again having very high scores. The calculated host listings count being given a high score in this algorithm may appear peculiar but when we think about the way those with higher listings coudbe forming a monopoly and influencing consumers decisions more significantly through marketing it makes sense. \n",
        "\n",
        "The encoded categorical variables did not show high importance in either algorithm and this is to be expected because of the way they were encoded (they only have 0's and 1's) and because there are so many of them. Some columns did show more importance than other but it was minute compared to the numerical variables"
      ],
      "metadata": {
        "id": "2yDSURsh2jE0"
      }
    },
    {
      "cell_type": "code",
      "source": [
        "#Implementing random forest feature importance- regressor\n",
        "from sklearn.ensemble import RandomForestRegressor\n",
        "\n",
        "model = RandomForestRegressor()\n",
        "model.fit(X_train, y_train)\n",
        "\n",
        "importances = model.feature_importances_.flatten()\n",
        "for i, v in enumerate(importances):\n",
        "    print('Feature: {}, Score: {:.5f}'.format(feature_names[i], v))"
      ],
      "metadata": {
        "colab": {
          "base_uri": "https://localhost:8080/"
        },
        "id": "SGhyrmJ7RdpJ",
        "outputId": "0f905a99-b764-452d-9601-2464287b1dd1"
      },
      "execution_count": null,
      "outputs": [
        {
          "output_type": "stream",
          "name": "stderr",
          "text": [
            "/usr/local/lib/python3.7/dist-packages/ipykernel_launcher.py:4: DataConversionWarning: A column-vector y was passed when a 1d array was expected. Please change the shape of y to (n_samples,), for example using ravel().\n",
            "  after removing the cwd from sys.path.\n"
          ]
        },
        {
          "output_type": "stream",
          "name": "stdout",
          "text": [
            "Feature: latitude, Score: 0.10773\n",
            "Feature: longitude, Score: 0.11690\n",
            "Feature: price, Score: 0.09970\n",
            "Feature: minimum_nights, Score: 0.06819\n",
            "Feature: number_of_reviews, Score: 0.06002\n",
            "Feature: reviews_per_month, Score: 0.07050\n",
            "Feature: calculated_host_listings_count, Score: 0.17486\n",
            "Feature: number_of_reviews_ltm, Score: 0.18398\n",
            "Feature: neigh_group_Bronx, Score: 0.00099\n",
            "Feature: neigh_group_Brooklyn, Score: 0.00183\n",
            "Feature: neigh_group_Manhattan, Score: 0.00177\n",
            "Feature: neigh_group_Queens, Score: 0.00156\n",
            "Feature: neigh_group_Staten Island, Score: 0.00018\n",
            "Feature: room_type_Entire home/apt, Score: 0.00632\n",
            "Feature: room_type_Hotel room, Score: 0.00083\n",
            "Feature: room_type_Private room, Score: 0.00729\n",
            "Feature: room_type_Shared room, Score: 0.00157\n",
            "Feature: neighbourhood_Allerton, Score: 0.00012\n",
            "Feature: neighbourhood_Arden Heights, Score: 0.00002\n",
            "Feature: neighbourhood_Arrochar, Score: 0.00007\n",
            "Feature: neighbourhood_Arverne, Score: 0.00051\n",
            "Feature: neighbourhood_Astoria, Score: 0.00121\n",
            "Feature: neighbourhood_Bath Beach, Score: 0.00021\n",
            "Feature: neighbourhood_Battery Park City, Score: 0.00019\n",
            "Feature: neighbourhood_Bay Ridge, Score: 0.00040\n",
            "Feature: neighbourhood_Bay Terrace, Score: 0.00001\n",
            "Feature: neighbourhood_Baychester, Score: 0.00025\n",
            "Feature: neighbourhood_Bayside, Score: 0.00017\n",
            "Feature: neighbourhood_Bayswater, Score: 0.00003\n",
            "Feature: neighbourhood_Bedford-Stuyvesant, Score: 0.00319\n",
            "Feature: neighbourhood_Belle Harbor, Score: 0.00001\n",
            "Feature: neighbourhood_Bellerose, Score: 0.00005\n",
            "Feature: neighbourhood_Belmont, Score: 0.00030\n",
            "Feature: neighbourhood_Bensonhurst, Score: 0.00035\n",
            "Feature: neighbourhood_Bergen Beach, Score: 0.00007\n",
            "Feature: neighbourhood_Bloomfield, Score: 0.00000\n",
            "Feature: neighbourhood_Boerum Hill, Score: 0.00040\n",
            "Feature: neighbourhood_Borough Park, Score: 0.00039\n",
            "Feature: neighbourhood_Breezy Point, Score: 0.00000\n",
            "Feature: neighbourhood_Briarwood, Score: 0.00024\n",
            "Feature: neighbourhood_Brighton Beach, Score: 0.00024\n",
            "Feature: neighbourhood_Broad Channel, Score: 0.00000\n",
            "Feature: neighbourhood_Bronx Park, Score: 0.00006\n",
            "Feature: neighbourhood_Bronxdale, Score: 0.00013\n",
            "Feature: neighbourhood_Brooklyn Heights, Score: 0.00030\n",
            "Feature: neighbourhood_Brownsville, Score: 0.00027\n",
            "Feature: neighbourhood_Bull's Head, Score: 0.00000\n",
            "Feature: neighbourhood_Bushwick, Score: 0.00281\n",
            "Feature: neighbourhood_Cambria Heights, Score: 0.00019\n",
            "Feature: neighbourhood_Canarsie, Score: 0.00050\n",
            "Feature: neighbourhood_Carroll Gardens, Score: 0.00045\n",
            "Feature: neighbourhood_Castle Hill, Score: 0.00004\n",
            "Feature: neighbourhood_Castleton Corners, Score: 0.00003\n",
            "Feature: neighbourhood_Central Park, Score: 0.00044\n",
            "Feature: neighbourhood_Chelsea, Score: 0.00175\n",
            "Feature: neighbourhood_Chelsea, Staten Island, Score: 0.00000\n",
            "Feature: neighbourhood_Chinatown, Score: 0.00090\n",
            "Feature: neighbourhood_City Island, Score: 0.00010\n",
            "Feature: neighbourhood_Civic Center, Score: 0.00024\n",
            "Feature: neighbourhood_Claremont Village, Score: 0.00031\n",
            "Feature: neighbourhood_Clason Point, Score: 0.00025\n",
            "Feature: neighbourhood_Clifton, Score: 0.00003\n",
            "Feature: neighbourhood_Clinton Hill, Score: 0.00108\n",
            "Feature: neighbourhood_Co-op City, Score: 0.00000\n",
            "Feature: neighbourhood_Cobble Hill, Score: 0.00021\n",
            "Feature: neighbourhood_College Point, Score: 0.00025\n",
            "Feature: neighbourhood_Columbia St, Score: 0.00005\n",
            "Feature: neighbourhood_Concord, Score: 0.00005\n",
            "Feature: neighbourhood_Concourse, Score: 0.00026\n",
            "Feature: neighbourhood_Concourse Village, Score: 0.00009\n",
            "Feature: neighbourhood_Coney Island, Score: 0.00006\n",
            "Feature: neighbourhood_Corona, Score: 0.00043\n",
            "Feature: neighbourhood_Country Club, Score: 0.00000\n",
            "Feature: neighbourhood_Crotona Park, Score: 0.00000\n",
            "Feature: neighbourhood_Crown Heights, Score: 0.00205\n",
            "Feature: neighbourhood_Cypress Hills, Score: 0.00050\n",
            "Feature: neighbourhood_DUMBO, Score: 0.00045\n",
            "Feature: neighbourhood_Ditmars Steinway, Score: 0.00075\n",
            "Feature: neighbourhood_Dongan Hills, Score: 0.00007\n",
            "Feature: neighbourhood_Douglaston, Score: 0.00005\n",
            "Feature: neighbourhood_Downtown Brooklyn, Score: 0.00032\n",
            "Feature: neighbourhood_Dyker Heights, Score: 0.00004\n",
            "Feature: neighbourhood_East Elmhurst, Score: 0.00084\n",
            "Feature: neighbourhood_East Flatbush, Score: 0.00150\n",
            "Feature: neighbourhood_East Harlem, Score: 0.00148\n",
            "Feature: neighbourhood_East Morrisania, Score: 0.00002\n",
            "Feature: neighbourhood_East New York, Score: 0.00074\n",
            "Feature: neighbourhood_East Village, Score: 0.00229\n",
            "Feature: neighbourhood_Eastchester, Score: 0.00008\n",
            "Feature: neighbourhood_Edenwald, Score: 0.00013\n",
            "Feature: neighbourhood_Edgemere, Score: 0.00003\n",
            "Feature: neighbourhood_Ellis Island, Score: 0.00015\n",
            "Feature: neighbourhood_Elmhurst, Score: 0.00074\n",
            "Feature: neighbourhood_Eltingville, Score: 0.00003\n",
            "Feature: neighbourhood_Emerson Hill, Score: 0.00008\n",
            "Feature: neighbourhood_Far Rockaway, Score: 0.00024\n",
            "Feature: neighbourhood_Ferry Point Park, Score: 0.00002\n",
            "Feature: neighbourhood_Fieldston, Score: 0.00005\n",
            "Feature: neighbourhood_Financial District, Score: 0.00065\n",
            "Feature: neighbourhood_Flatbush, Score: 0.00112\n",
            "Feature: neighbourhood_Flatiron District, Score: 0.00039\n",
            "Feature: neighbourhood_Flatlands, Score: 0.00051\n",
            "Feature: neighbourhood_Floral Park, Score: 0.00003\n",
            "Feature: neighbourhood_Flushing, Score: 0.00126\n",
            "Feature: neighbourhood_Flushing Meadows Corona Park, Score: 0.00016\n",
            "Feature: neighbourhood_Fordham, Score: 0.00021\n",
            "Feature: neighbourhood_Forest Hills, Score: 0.00044\n",
            "Feature: neighbourhood_Forest Park, Score: 0.00003\n",
            "Feature: neighbourhood_Fort Greene, Score: 0.00094\n",
            "Feature: neighbourhood_Fort Hamilton, Score: 0.00011\n",
            "Feature: neighbourhood_Fort Wadsworth, Score: 0.00001\n",
            "Feature: neighbourhood_Fresh Meadows, Score: 0.00017\n",
            "Feature: neighbourhood_Freshkills Park, Score: 0.00005\n",
            "Feature: neighbourhood_Gerritsen Beach, Score: 0.00000\n",
            "Feature: neighbourhood_Glendale, Score: 0.00029\n",
            "Feature: neighbourhood_Gowanus, Score: 0.00047\n",
            "Feature: neighbourhood_Gramercy, Score: 0.00089\n",
            "Feature: neighbourhood_Graniteville, Score: 0.00000\n",
            "Feature: neighbourhood_Grant City, Score: 0.00002\n",
            "Feature: neighbourhood_Gravesend, Score: 0.00069\n",
            "Feature: neighbourhood_Great Kills, Score: 0.00003\n",
            "Feature: neighbourhood_Green-Wood Cemetery, Score: 0.00007\n",
            "Feature: neighbourhood_Greenpoint, Score: 0.00173\n",
            "Feature: neighbourhood_Greenwich Village, Score: 0.00058\n",
            "Feature: neighbourhood_Grymes Hill, Score: 0.00000\n",
            "Feature: neighbourhood_Harlem, Score: 0.00237\n",
            "Feature: neighbourhood_Hell's Kitchen, Score: 0.00201\n",
            "Feature: neighbourhood_Highbridge, Score: 0.00025\n",
            "Feature: neighbourhood_Hollis, Score: 0.00012\n",
            "Feature: neighbourhood_Hollis Hills, Score: 0.00000\n",
            "Feature: neighbourhood_Holliswood, Score: 0.00005\n",
            "Feature: neighbourhood_Howard Beach, Score: 0.00019\n",
            "Feature: neighbourhood_Howland Hook, Score: 0.00001\n",
            "Feature: neighbourhood_Huguenot, Score: 0.00001\n",
            "Feature: neighbourhood_Hunts Point, Score: 0.00016\n",
            "Feature: neighbourhood_Inwood, Score: 0.00023\n",
            "Feature: neighbourhood_Jackson Heights, Score: 0.00072\n",
            "Feature: neighbourhood_Jamaica, Score: 0.00056\n",
            "Feature: neighbourhood_Jamaica Estates, Score: 0.00035\n",
            "Feature: neighbourhood_Jamaica Hills, Score: 0.00003\n",
            "Feature: neighbourhood_Kensington, Score: 0.00044\n",
            "Feature: neighbourhood_Kew Gardens, Score: 0.00037\n",
            "Feature: neighbourhood_Kew Gardens Hills, Score: 0.00017\n",
            "Feature: neighbourhood_Kingsbridge, Score: 0.00029\n",
            "Feature: neighbourhood_Kips Bay, Score: 0.00089\n",
            "Feature: neighbourhood_LaGuardia Airport, Score: 0.00001\n",
            "Feature: neighbourhood_Laurelton, Score: 0.00018\n",
            "Feature: neighbourhood_Lighthouse Hill, Score: 0.00000\n",
            "Feature: neighbourhood_Little Italy, Score: 0.00040\n",
            "Feature: neighbourhood_Little Neck, Score: 0.00003\n",
            "Feature: neighbourhood_Long Island City, Score: 0.00116\n",
            "Feature: neighbourhood_Longwood, Score: 0.00050\n",
            "Feature: neighbourhood_Lower East Side, Score: 0.00193\n",
            "Feature: neighbourhood_Manhattan Beach, Score: 0.00000\n",
            "Feature: neighbourhood_Marble Hill, Score: 0.00000\n",
            "Feature: neighbourhood_Marine Park, Score: 0.00005\n",
            "Feature: neighbourhood_Mariners Harbor, Score: 0.00007\n",
            "Feature: neighbourhood_Maspeth, Score: 0.00043\n",
            "Feature: neighbourhood_Melrose, Score: 0.00002\n",
            "Feature: neighbourhood_Middle Village, Score: 0.00007\n",
            "Feature: neighbourhood_Midland Beach, Score: 0.00001\n",
            "Feature: neighbourhood_Midtown, Score: 0.00315\n",
            "Feature: neighbourhood_Midwood, Score: 0.00048\n",
            "Feature: neighbourhood_Mill Basin, Score: 0.00006\n",
            "Feature: neighbourhood_Morningside Heights, Score: 0.00027\n",
            "Feature: neighbourhood_Morris Heights, Score: 0.00007\n",
            "Feature: neighbourhood_Morris Park, Score: 0.00021\n",
            "Feature: neighbourhood_Morrisania, Score: 0.00009\n",
            "Feature: neighbourhood_Mott Haven, Score: 0.00027\n",
            "Feature: neighbourhood_Mount Eden, Score: 0.00000\n",
            "Feature: neighbourhood_Mount Hope, Score: 0.00009\n",
            "Feature: neighbourhood_Murray Hill, Score: 0.00103\n",
            "Feature: neighbourhood_Navy Yard, Score: 0.00002\n",
            "Feature: neighbourhood_Neponsit, Score: 0.00001\n",
            "Feature: neighbourhood_New Brighton, Score: 0.00003\n",
            "Feature: neighbourhood_New Dorp, Score: 0.00000\n",
            "Feature: neighbourhood_New Dorp Beach, Score: 0.00000\n",
            "Feature: neighbourhood_New Springville, Score: 0.00000\n",
            "Feature: neighbourhood_NoHo, Score: 0.00026\n",
            "Feature: neighbourhood_Nolita, Score: 0.00147\n",
            "Feature: neighbourhood_North Riverdale, Score: 0.00009\n",
            "Feature: neighbourhood_Norwood, Score: 0.00017\n",
            "Feature: neighbourhood_Oakwood, Score: 0.00003\n",
            "Feature: neighbourhood_Olinville, Score: 0.00008\n",
            "Feature: neighbourhood_Ozone Park, Score: 0.00041\n",
            "Feature: neighbourhood_Park Hill, Score: 0.00003\n",
            "Feature: neighbourhood_Park Slope, Score: 0.00083\n",
            "Feature: neighbourhood_Parkchester, Score: 0.00037\n",
            "Feature: neighbourhood_Pelham Bay, Score: 0.00018\n",
            "Feature: neighbourhood_Pelham Bay Park, Score: 0.00000\n",
            "Feature: neighbourhood_Pelham Gardens, Score: 0.00039\n",
            "Feature: neighbourhood_Pelham Islands, Score: 0.00000\n",
            "Feature: neighbourhood_Port Ivory, Score: 0.00002\n",
            "Feature: neighbourhood_Port Morris, Score: 0.00008\n",
            "Feature: neighbourhood_Port Richmond, Score: 0.00003\n",
            "Feature: neighbourhood_Prince's Bay, Score: 0.00009\n",
            "Feature: neighbourhood_Prospect Heights, Score: 0.00064\n",
            "Feature: neighbourhood_Prospect Park, Score: 0.00009\n",
            "Feature: neighbourhood_Prospect-Lefferts Gardens, Score: 0.00123\n",
            "Feature: neighbourhood_Queens Village, Score: 0.00031\n",
            "Feature: neighbourhood_Randall Manor, Score: 0.00007\n",
            "Feature: neighbourhood_Red Hook, Score: 0.00014\n",
            "Feature: neighbourhood_Rego Park, Score: 0.00054\n",
            "Feature: neighbourhood_Richmond Hill, Score: 0.00068\n",
            "Feature: neighbourhood_Richmondtown, Score: 0.00001\n",
            "Feature: neighbourhood_Ridgewood, Score: 0.00094\n",
            "Feature: neighbourhood_Riverdale, Score: 0.00003\n",
            "Feature: neighbourhood_Rockaway Beach, Score: 0.00028\n",
            "Feature: neighbourhood_Rockaway Park, Score: 0.00013\n",
            "Feature: neighbourhood_Roosevelt Island, Score: 0.00022\n",
            "Feature: neighbourhood_Rosebank, Score: 0.00001\n",
            "Feature: neighbourhood_Rosedale, Score: 0.00039\n",
            "Feature: neighbourhood_Schuylerville, Score: 0.00006\n",
            "Feature: neighbourhood_Sea Gate, Score: 0.00004\n",
            "Feature: neighbourhood_Sheepshead Bay, Score: 0.00040\n",
            "Feature: neighbourhood_Shore Acres, Score: 0.00005\n",
            "Feature: neighbourhood_Silver Lake, Score: 0.00000\n",
            "Feature: neighbourhood_SoHo, Score: 0.00094\n",
            "Feature: neighbourhood_Soundview, Score: 0.00007\n",
            "Feature: neighbourhood_South Beach, Score: 0.00000\n",
            "Feature: neighbourhood_South Ozone Park, Score: 0.00052\n",
            "Feature: neighbourhood_South Slope, Score: 0.00072\n",
            "Feature: neighbourhood_Springfield Gardens, Score: 0.00032\n",
            "Feature: neighbourhood_Spuyten Duyvil, Score: 0.00000\n",
            "Feature: neighbourhood_St. Albans, Score: 0.00051\n",
            "Feature: neighbourhood_St. George, Score: 0.00013\n",
            "Feature: neighbourhood_Stapleton, Score: 0.00006\n",
            "Feature: neighbourhood_Stuyvesant Town, Score: 0.00048\n",
            "Feature: neighbourhood_Sunnyside, Score: 0.00090\n",
            "Feature: neighbourhood_Sunset Park, Score: 0.00091\n",
            "Feature: neighbourhood_Theater District, Score: 0.00166\n",
            "Feature: neighbourhood_Throgs Neck, Score: 0.00015\n",
            "Feature: neighbourhood_Todt Hill, Score: 0.00003\n",
            "Feature: neighbourhood_Tompkinsville, Score: 0.00011\n",
            "Feature: neighbourhood_Tottenville, Score: 0.00001\n",
            "Feature: neighbourhood_Tremont, Score: 0.00024\n",
            "Feature: neighbourhood_Tribeca, Score: 0.00041\n",
            "Feature: neighbourhood_Two Bridges, Score: 0.00008\n",
            "Feature: neighbourhood_Unionport, Score: 0.00001\n",
            "Feature: neighbourhood_University Heights, Score: 0.00008\n",
            "Feature: neighbourhood_Upper East Side, Score: 0.00267\n",
            "Feature: neighbourhood_Upper West Side, Score: 0.00189\n",
            "Feature: neighbourhood_Van Cortlandt Park, Score: 0.00009\n",
            "Feature: neighbourhood_Van Nest, Score: 0.00028\n",
            "Feature: neighbourhood_Vinegar Hill, Score: 0.00026\n",
            "Feature: neighbourhood_Wakefield, Score: 0.00019\n",
            "Feature: neighbourhood_Washington Heights, Score: 0.00096\n",
            "Feature: neighbourhood_West Brighton, Score: 0.00003\n",
            "Feature: neighbourhood_West Farms, Score: 0.00023\n",
            "Feature: neighbourhood_West Village, Score: 0.00123\n",
            "Feature: neighbourhood_Westchester Square, Score: 0.00002\n",
            "Feature: neighbourhood_Westerleigh, Score: 0.00000\n",
            "Feature: neighbourhood_Whitestone, Score: 0.00008\n",
            "Feature: neighbourhood_Williamsbridge, Score: 0.00029\n",
            "Feature: neighbourhood_Williamsburg, Score: 0.00350\n",
            "Feature: neighbourhood_Willowbrook, Score: 0.00000\n",
            "Feature: neighbourhood_Windsor Terrace, Score: 0.00049\n",
            "Feature: neighbourhood_Woodhaven, Score: 0.00068\n",
            "Feature: neighbourhood_Woodlawn, Score: 0.00003\n",
            "Feature: neighbourhood_Woodrow, Score: 0.00000\n",
            "Feature: neighbourhood_Woodside, Score: 0.00064\n"
          ]
        }
      ]
    },
    {
      "cell_type": "markdown",
      "source": [
        "9. KMeans clustering\n",
        "a. The most appropriate distance measure for our engineered dataset would be Gower's distance because our data type is mixed between the continuous numerical variables and the disscrete encoded categorical variables. However, using the algorithm on python means we are unable to choose which distance metric is being used and Euclidean distance is used by default. The Euclidean distance functions very well with the numerical columns so it is not completely inaccurate, especially when considering the fact that those same columns were the ones that were shown to be most important by the feature selection algorithmss.\n",
        "\n",
        "b. KMeans clustering requires scaling becuase it calculates distance. This means if the scale of one column is 10^3 and the other has a scale of 10^-3 the column with the larger scale will have more of an effect on the distance that is calculated and would negate the effect of the other column. This is why everything must be scaled before using the algorithm, and all our numerical values have been scaled in the feature enginerring stage so this has already been addressed. \n"
      ],
      "metadata": {
        "id": "s6EzgXMcoXie"
      }
    },
    {
      "cell_type": "code",
      "source": [
        "from sklearn.cluster import KMeans\n",
        "\n",
        "distortions = []\n",
        "K = range(1,10)\n",
        "for k in K:\n",
        "    kmeanModel = KMeans(n_clusters=k)\n",
        "    kmeanModel.fit(df)\n",
        "    distortions.append(kmeanModel.inertia_)\n",
        "plt.figure(figsize=(16,8))\n",
        "plt.plot(K, distortions, 'bx-')\n",
        "plt.xlabel('k')\n",
        "plt.ylabel('Distortion')\n",
        "plt.title('The Elbow Method showing the optimal k')\n",
        "plt.show()"
      ],
      "metadata": {
        "colab": {
          "base_uri": "https://localhost:8080/",
          "height": 533
        },
        "id": "D_Rcx_IPhW_1",
        "outputId": "e03832a2-2921-43c1-ff77-dba58f5ed658"
      },
      "execution_count": null,
      "outputs": [
        {
          "output_type": "display_data",
          "data": {
            "text/plain": [
              "<Figure size 1152x576 with 1 Axes>"
            ],
            "image/png": "[encoded data removed]"
          },
          "metadata": {
            "needs_background": "light"
          }
        }
      ]
    },
    {
      "cell_type": "code",
      "source": [
        "from sklearn.cluster import KMeans\n",
        "kmeanModel = KMeans(n_clusters=4)\n",
        "kmeanModel.fit(df)\n",
        "centroids  = kmeanModel.cluster_centers_"
      ],
      "metadata": {
        "id": "tHjEoEfhroFj"
      },
      "execution_count": null,
      "outputs": []
    },
    {
      "cell_type": "code",
      "source": [
        "pd.DataFrame(centroids, columns = df.columns)"
      ],
      "metadata": {
        "colab": {
          "base_uri": "https://localhost:8080/",
          "height": 285
        },
        "id": "v8ESHdeF3g6B",
        "outputId": "95cbe34c-1722-41bc-f36d-f73c74c127d2"
      },
      "execution_count": null,
      "outputs": [
        {
          "output_type": "execute_result",
          "data": {
            "text/plain": [
              "   latitude  longitude     price  minimum_nights  number_of_reviews  \\\n",
              "0  0.272501  -0.271864  0.100112        0.455817          -0.662669   \n",
              "1 -0.099560   0.217586  0.180250       -0.881844           0.991848   \n",
              "2  0.724289  -0.340151  0.155991        0.412843          -0.414147   \n",
              "3 -0.701136   0.206013 -0.383438        0.357940          -0.389100   \n",
              "\n",
              "   reviews_per_month  calculated_host_listings_count  availability_365  \\\n",
              "0          -0.621301                        2.337946          0.616871   \n",
              "1           1.253417                       -0.159158          0.449438   \n",
              "2          -0.565778                       -0.411664         -0.396759   \n",
              "3          -0.539872                       -0.396245         -0.352728   \n",
              "\n",
              "   number_of_reviews_ltm  neigh_group_Bronx  ...  neighbourhood_Westerleigh  \\\n",
              "0              -0.496047           0.007348  ...               1.626303e-19   \n",
              "1               1.281469           0.063465  ...               8.084728e-05   \n",
              "2              -0.598862           0.067176  ...              -2.212450e-18   \n",
              "3              -0.589577           0.000086  ...              -2.422514e-18   \n",
              "\n",
              "   neighbourhood_Whitestone  neighbourhood_Williamsbridge  \\\n",
              "0              2.114194e-18                  6.570265e-17   \n",
              "1              7.276255e-04                  2.263724e-03   \n",
              "2              3.597122e-04                  3.776978e-03   \n",
              "3             -2.873136e-18                  1.155760e-16   \n",
              "\n",
              "   neighbourhood_Williamsburg  neighbourhood_Willowbrook  \\\n",
              "0                    0.011757               1.626303e-19   \n",
              "1                    0.049398               8.084728e-05   \n",
              "2                    0.002068              -2.212450e-18   \n",
              "3                    0.152133              -2.422514e-18   \n",
              "\n",
              "   neighbourhood_Windsor Terrace  neighbourhood_Woodhaven  \\\n",
              "0                  -7.806256e-18             3.946496e-17   \n",
              "1                   3.233891e-03             3.718975e-03   \n",
              "2                   1.981922e-16            -2.402592e-16   \n",
              "3                   6.389225e-03             3.367294e-03   \n",
              "\n",
              "   neighbourhood_Woodlawn  neighbourhood_Woodrow  neighbourhood_Woodside  \n",
              "0            4.092863e-18           1.626303e-19                0.042410  \n",
              "1            3.233891e-04           8.084728e-05                0.005013  \n",
              "2            2.697842e-04          -2.212450e-18                0.000989  \n",
              "3            9.920450e-18          -2.422514e-18                0.005267  \n",
              "\n",
              "[4 rows x 262 columns]"
            ],
            "text/html": [
              "\n",
              "  <div id=\"df-c9bebe08-a855-448f-9641-796fae34be93\">\n",
              "    <div class=\"colab-df-container\">\n",
              "      <div>\n",
              "<style scoped>\n",
              "    .dataframe tbody tr th:only-of-type {\n",
              "        vertical-align: middle;\n",
              "    }\n",
              "\n",
              "    .dataframe tbody tr th {\n",
              "        vertical-align: top;\n",
              "    }\n",
              "\n",
              "    .dataframe thead th {\n",
              "        text-align: right;\n",
              "    }\n",
              "</style>\n",
              "<table border=\"1\" class=\"dataframe\">\n",
              "  <thead>\n",
              "    <tr style=\"text-align: right;\">\n",
              "      <th></th>\n",
              "      <th>latitude</th>\n",
              "      <th>longitude</th>\n",
              "      <th>price</th>\n",
              "      <th>minimum_nights</th>\n",
              "      <th>number_of_reviews</th>\n",
              "      <th>reviews_per_month</th>\n",
              "      <th>calculated_host_listings_count</th>\n",
              "      <th>availability_365</th>\n",
              "      <th>number_of_reviews_ltm</th>\n",
              "      <th>neigh_group_Bronx</th>\n",
              "      <th>...</th>\n",
              "      <th>neighbourhood_Westerleigh</th>\n",
              "      <th>neighbourhood_Whitestone</th>\n",
              "      <th>neighbourhood_Williamsbridge</th>\n",
              "      <th>neighbourhood_Williamsburg</th>\n",
              "      <th>neighbourhood_Willowbrook</th>\n",
              "      <th>neighbourhood_Windsor Terrace</th>\n",
              "      <th>neighbourhood_Woodhaven</th>\n",
              "      <th>neighbourhood_Woodlawn</th>\n",
              "      <th>neighbourhood_Woodrow</th>\n",
              "      <th>neighbourhood_Woodside</th>\n",
              "    </tr>\n",
              "  </thead>\n",
              "  <tbody>\n",
              "    <tr>\n",
              "      <th>0</th>\n",
              "      <td>0.272501</td>\n",
              "      <td>-0.271864</td>\n",
              "      <td>0.100112</td>\n",
              "      <td>0.455817</td>\n",
              "      <td>-0.662669</td>\n",
              "      <td>-0.621301</td>\n",
              "      <td>2.337946</td>\n",
              "      <td>0.616871</td>\n",
              "      <td>-0.496047</td>\n",
              "      <td>0.007348</td>\n",
              "      <td>...</td>\n",
              "      <td>1.626303e-19</td>\n",
              "      <td>2.114194e-18</td>\n",
              "      <td>6.570265e-17</td>\n",
              "      <td>0.011757</td>\n",
              "      <td>1.626303e-19</td>\n",
              "      <td>-7.806256e-18</td>\n",
              "      <td>3.946496e-17</td>\n",
              "      <td>4.092863e-18</td>\n",
              "      <td>1.626303e-19</td>\n",
              "      <td>0.042410</td>\n",
              "    </tr>\n",
              "    <tr>\n",
              "      <th>1</th>\n",
              "      <td>-0.099560</td>\n",
              "      <td>0.217586</td>\n",
              "      <td>0.180250</td>\n",
              "      <td>-0.881844</td>\n",
              "      <td>0.991848</td>\n",
              "      <td>1.253417</td>\n",
              "      <td>-0.159158</td>\n",
              "      <td>0.449438</td>\n",
              "      <td>1.281469</td>\n",
              "      <td>0.063465</td>\n",
              "      <td>...</td>\n",
              "      <td>8.084728e-05</td>\n",
              "      <td>7.276255e-04</td>\n",
              "      <td>2.263724e-03</td>\n",
              "      <td>0.049398</td>\n",
              "      <td>8.084728e-05</td>\n",
              "      <td>3.233891e-03</td>\n",
              "      <td>3.718975e-03</td>\n",
              "      <td>3.233891e-04</td>\n",
              "      <td>8.084728e-05</td>\n",
              "      <td>0.005013</td>\n",
              "    </tr>\n",
              "    <tr>\n",
              "      <th>2</th>\n",
              "      <td>0.724289</td>\n",
              "      <td>-0.340151</td>\n",
              "      <td>0.155991</td>\n",
              "      <td>0.412843</td>\n",
              "      <td>-0.414147</td>\n",
              "      <td>-0.565778</td>\n",
              "      <td>-0.411664</td>\n",
              "      <td>-0.396759</td>\n",
              "      <td>-0.598862</td>\n",
              "      <td>0.067176</td>\n",
              "      <td>...</td>\n",
              "      <td>-2.212450e-18</td>\n",
              "      <td>3.597122e-04</td>\n",
              "      <td>3.776978e-03</td>\n",
              "      <td>0.002068</td>\n",
              "      <td>-2.212450e-18</td>\n",
              "      <td>1.981922e-16</td>\n",
              "      <td>-2.402592e-16</td>\n",
              "      <td>2.697842e-04</td>\n",
              "      <td>-2.212450e-18</td>\n",
              "      <td>0.000989</td>\n",
              "    </tr>\n",
              "    <tr>\n",
              "      <th>3</th>\n",
              "      <td>-0.701136</td>\n",
              "      <td>0.206013</td>\n",
              "      <td>-0.383438</td>\n",
              "      <td>0.357940</td>\n",
              "      <td>-0.389100</td>\n",
              "      <td>-0.539872</td>\n",
              "      <td>-0.396245</td>\n",
              "      <td>-0.352728</td>\n",
              "      <td>-0.589577</td>\n",
              "      <td>0.000086</td>\n",
              "      <td>...</td>\n",
              "      <td>-2.422514e-18</td>\n",
              "      <td>-2.873136e-18</td>\n",
              "      <td>1.155760e-16</td>\n",
              "      <td>0.152133</td>\n",
              "      <td>-2.422514e-18</td>\n",
              "      <td>6.389225e-03</td>\n",
              "      <td>3.367294e-03</td>\n",
              "      <td>9.920450e-18</td>\n",
              "      <td>-2.422514e-18</td>\n",
              "      <td>0.005267</td>\n",
              "    </tr>\n",
              "  </tbody>\n",
              "</table>\n",
              "<p>4 rows × 262 columns</p>\n",
              "</div>\n",
              "      <button class=\"colab-df-convert\" onclick=\"convertToInteractive('df-c9bebe08-a855-448f-9641-796fae34be93')\"\n",
              "              title=\"Convert this dataframe to an interactive table.\"\n",
              "              style=\"display:none;\">\n",
              "        \n",
              "  <svg xmlns=\"http://www.w3.org/2000/svg\" height=\"24px\"viewBox=\"0 0 24 24\"\n",
              "       width=\"24px\">\n",
              "    <path d=\"M0 0h24v24H0V0z\" fill=\"none\"/>\n",
              "    <path d=\"M18.56 5.44l.94 2.06.94-2.06 2.06-.94-2.06-.94-.94-2.06-.94 2.06-2.06.94zm-11 1L8.5 8.5l.94-2.06 2.06-.94-2.06-.94L8.5 2.5l-.94 2.06-2.06.94zm10 10l.94 2.06.94-2.06 2.06-.94-2.06-.94-.94-2.06-.94 2.06-2.06.94z\"/><path d=\"M17.41 7.96l-1.37-1.37c-.4-.4-.92-.59-1.43-.59-.52 0-1.04.2-1.43.59L10.3 9.45l-7.72 7.72c-.78.78-.78 2.05 0 2.83L4 21.41c.39.39.9.59 1.41.59.51 0 1.02-.2 1.41-.59l7.78-7.78 2.81-2.81c.8-.78.8-2.07 0-2.86zM5.41 20L4 18.59l7.72-7.72 1.47 1.35L5.41 20z\"/>\n",
              "  </svg>\n",
              "      </button>\n",
              "      \n",
              "  <style>\n",
              "    .colab-df-container {\n",
              "      display:flex;\n",
              "      flex-wrap:wrap;\n",
              "      gap: 12px;\n",
              "    }\n",
              "\n",
              "    .colab-df-convert {\n",
              "      background-color: #E8F0FE;\n",
              "      border: none;\n",
              "      border-radius: 50%;\n",
              "      cursor: pointer;\n",
              "      display: none;\n",
              "      fill: #1967D2;\n",
              "      height: 32px;\n",
              "      padding: 0 0 0 0;\n",
              "      width: 32px;\n",
              "    }\n",
              "\n",
              "    .colab-df-convert:hover {\n",
              "      background-color: #E2EBFA;\n",
              "      box-shadow: 0px 1px 2px rgba(60, 64, 67, 0.3), 0px 1px 3px 1px rgba(60, 64, 67, 0.15);\n",
              "      fill: #174EA6;\n",
              "    }\n",
              "\n",
              "    [theme=dark] .colab-df-convert {\n",
              "      background-color: #3B4455;\n",
              "      fill: #D2E3FC;\n",
              "    }\n",
              "\n",
              "    [theme=dark] .colab-df-convert:hover {\n",
              "      background-color: #434B5C;\n",
              "      box-shadow: 0px 1px 3px 1px rgba(0, 0, 0, 0.15);\n",
              "      filter: drop-shadow(0px 1px 2px rgba(0, 0, 0, 0.3));\n",
              "      fill: #FFFFFF;\n",
              "    }\n",
              "  </style>\n",
              "\n",
              "      <script>\n",
              "        const buttonEl =\n",
              "          document.querySelector('#df-c9bebe08-a855-448f-9641-796fae34be93 button.colab-df-convert');\n",
              "        buttonEl.style.display =\n",
              "          google.colab.kernel.accessAllowed ? 'block' : 'none';\n",
              "\n",
              "        async function convertToInteractive(key) {\n",
              "          const element = document.querySelector('#df-c9bebe08-a855-448f-9641-796fae34be93');\n",
              "          const dataTable =\n",
              "            await google.colab.kernel.invokeFunction('convertToInteractive',\n",
              "                                                     [key], {});\n",
              "          if (!dataTable) return;\n",
              "\n",
              "          const docLinkHtml = 'Like what you see? Visit the ' +\n",
              "            '<a target=\"_blank\" href=https://colab.research.google.com/notebooks/data_table.ipynb>data table notebook</a>'\n",
              "            + ' to learn more about interactive tables.';\n",
              "          element.innerHTML = '';\n",
              "          dataTable['output_type'] = 'display_data';\n",
              "          await google.colab.output.renderOutput(dataTable, element);\n",
              "          const docLink = document.createElement('div');\n",
              "          docLink.innerHTML = docLinkHtml;\n",
              "          element.appendChild(docLink);\n",
              "        }\n",
              "      </script>\n",
              "    </div>\n",
              "  </div>\n",
              "  "
            ]
          },
          "metadata": {},
          "execution_count": 96
        }
      ]
    },
    {
      "cell_type": "markdown",
      "source": [
        "9d. The elbow method identified 4 clusters as the optimum number. \n",
        "The first cluster has the largest minimum_nights and the largest calculated host listing count. It also has the lowest number of reviews and reviews per month and the highest availability. In summary: extended stays where the tenants seldom leave reviews but the owners have a lot of other propertoes.\n",
        "\n",
        "The second cluster has the highest number of reviews, reviews per month and revoews in the last twelve months but the lowest number of minimum nights. These are short stays where the tenants leave frequent reviews.\n",
        "\n",
        "The third cluster is characterized by the lowest host listing count, lowest availability and lowest number of reviews in last twelve months. The minimum nights is significantly high though. These are long stays, with few reviews and the owner does not have many other listings. \n",
        "\n",
        "The last cluster is the cheapest and the hosts have few other listings. They are pretty well booked but do not receive many reviews. These stays are longer than average but much cheaper and quite popular.\n",
        "\n",
        "e. From a practical perspective the first cluster makes a lot of sense. These are most likely real estate companies providing long term contracts with lower prices where the tenants are unlikely to leave reviews frequently because of the extended stay and nature of the contract.\n",
        "\n",
        "The second cluster also makes sense, these are the short stays where people will likely leave more reviews because of the high turnover and they tend to be more expensive, similar to hotel rooms except the host listing counts are low so they are unlikely to actually be hotels.\n",
        "\n",
        "The third cluster is not as clear, it is like the first cluster involving long term contracts except this time the host listing count is much lower and the prices are higher. These could be the higher end apartments that cost more despite the extended contracts.\n",
        "\n",
        "The last cluster appears to be the average Airbnb. Cheaper than all other clusters but the minimum nights are above average and the owner has few other listings. Most likely the vacation homes being rented out for 30 days but at much cheaper prices which reflects what Airbnbs are used for most frequently. \n"
      ],
      "metadata": {
        "id": "6IuE6umJq4pJ"
      }
    },
    {
      "cell_type": "code",
      "source": [
        "9f\n",
        "from sklearn.cluster import KMeans\n",
        "kmeanModel = KMeans(n_clusters=5)\n",
        "kmeanModel.fit(df)\n",
        "centroids  = kmeanModel.cluster_centers_\n",
        "#For our business perspective we chose 5 clusters. \n",
        "#These would be roughly \n",
        "#1- the extended contracts from real estate companies\n",
        "#2- the exented contracts from regular home owners\n",
        "#3- short and frequent stays from regular home owners\n",
        "#4- Average airbnb listing, longer than a few days but still cheap \n",
        "#5- Miscelanneous listings such as luxurious apartments or hotel rooms"
      ],
      "metadata": {
        "id": "0KPjnH607LcB"
      },
      "execution_count": null,
      "outputs": []
    },
    {
      "cell_type": "code",
      "source": [
        "pd.DataFrame(centroids, columns = df.columns)"
      ],
      "metadata": {
        "colab": {
          "base_uri": "https://localhost:8080/",
          "height": 317
        },
        "id": "Gql5nGZX7PUx",
        "outputId": "a4784075-c481-43cb-c7d8-410f72417914"
      },
      "execution_count": null,
      "outputs": [
        {
          "output_type": "execute_result",
          "data": {
            "text/plain": [
              "   latitude  longitude     price  minimum_nights  number_of_reviews  \\\n",
              "0  0.288472  -0.314400  0.099286        0.519721          -0.665917   \n",
              "1  0.147600  -0.521040  0.641201        0.407523          -0.394860   \n",
              "2 -0.118039   0.043965  0.210460       -0.875540           1.247670   \n",
              "3 -0.066765   0.814075 -0.095090       -0.635969          -0.312976   \n",
              "4 -0.140979   0.124689 -0.976064        0.720805          -0.382033   \n",
              "\n",
              "   reviews_per_month  calculated_host_listings_count  availability_365  \\\n",
              "0          -0.640239                        2.366528          0.604735   \n",
              "1          -0.553079                       -0.445730         -0.474808   \n",
              "2           1.329031                       -0.144785          0.336384   \n",
              "3           0.167736                       -0.181165          0.898148   \n",
              "4          -0.658931                       -0.425788         -0.811974   \n",
              "\n",
              "   number_of_reviews_ltm  neigh_group_Bronx  ...  neighbourhood_Westerleigh  \\\n",
              "0              -0.503457           0.006110  ...               1.592422e-19   \n",
              "1              -0.571938           0.006179  ...              -1.511107e-18   \n",
              "2               1.483827           0.047164  ...               1.005632e-04   \n",
              "3              -0.096914           0.116348  ...               1.626303e-19   \n",
              "4              -0.690312           0.029947  ...              -2.663072e-18   \n",
              "\n",
              "   neighbourhood_Whitestone  neighbourhood_Williamsbridge  \\\n",
              "0              4.391019e-18                  6.266689e-17   \n",
              "1             -1.425726e-17                  1.961554e-04   \n",
              "2              5.028158e-04                  1.910700e-03   \n",
              "3              7.777259e-04                  5.755172e-03   \n",
              "4              3.455425e-04                  1.382170e-03   \n",
              "\n",
              "   neighbourhood_Williamsburg  neighbourhood_Willowbrook  \\\n",
              "0                    0.009383               1.592422e-19   \n",
              "1                    0.077285              -1.511107e-18   \n",
              "2                    0.050181               1.005632e-04   \n",
              "3                    0.038264               1.626303e-19   \n",
              "4                    0.100898              -2.663072e-18   \n",
              "\n",
              "   neighbourhood_Windsor Terrace  neighbourhood_Woodhaven  \\\n",
              "0                       0.000436             3.859760e-17   \n",
              "1                       0.003825             1.961554e-04   \n",
              "2                       0.003821             3.318584e-03   \n",
              "3                       0.001555             5.132991e-03   \n",
              "4                       0.002880             1.958074e-03   \n",
              "\n",
              "   neighbourhood_Woodlawn  neighbourhood_Woodrow  neighbourhood_Woodside  \n",
              "0            3.876023e-18           1.592422e-19                0.041894  \n",
              "1            9.807768e-05          -1.511107e-18                0.000588  \n",
              "2            3.016895e-04           1.005632e-04                0.004123  \n",
              "3            4.666356e-04           1.626303e-19                0.006844  \n",
              "4            8.212831e-18          -2.663072e-18                0.006105  \n",
              "\n",
              "[5 rows x 262 columns]"
            ],
            "text/html": [
              "\n",
              "  <div id=\"df-5f6fff53-f412-43c1-b6fc-88e8ef309172\">\n",
              "    <div class=\"colab-df-container\">\n",
              "      <div>\n",
              "<style scoped>\n",
              "    .dataframe tbody tr th:only-of-type {\n",
              "        vertical-align: middle;\n",
              "    }\n",
              "\n",
              "    .dataframe tbody tr th {\n",
              "        vertical-align: top;\n",
              "    }\n",
              "\n",
              "    .dataframe thead th {\n",
              "        text-align: right;\n",
              "    }\n",
              "</style>\n",
              "<table border=\"1\" class=\"dataframe\">\n",
              "  <thead>\n",
              "    <tr style=\"text-align: right;\">\n",
              "      <th></th>\n",
              "      <th>latitude</th>\n",
              "      <th>longitude</th>\n",
              "      <th>price</th>\n",
              "      <th>minimum_nights</th>\n",
              "      <th>number_of_reviews</th>\n",
              "      <th>reviews_per_month</th>\n",
              "      <th>calculated_host_listings_count</th>\n",
              "      <th>availability_365</th>\n",
              "      <th>number_of_reviews_ltm</th>\n",
              "      <th>neigh_group_Bronx</th>\n",
              "      <th>...</th>\n",
              "      <th>neighbourhood_Westerleigh</th>\n",
              "      <th>neighbourhood_Whitestone</th>\n",
              "      <th>neighbourhood_Williamsbridge</th>\n",
              "      <th>neighbourhood_Williamsburg</th>\n",
              "      <th>neighbourhood_Willowbrook</th>\n",
              "      <th>neighbourhood_Windsor Terrace</th>\n",
              "      <th>neighbourhood_Woodhaven</th>\n",
              "      <th>neighbourhood_Woodlawn</th>\n",
              "      <th>neighbourhood_Woodrow</th>\n",
              "      <th>neighbourhood_Woodside</th>\n",
              "    </tr>\n",
              "  </thead>\n",
              "  <tbody>\n",
              "    <tr>\n",
              "      <th>0</th>\n",
              "      <td>0.288472</td>\n",
              "      <td>-0.314400</td>\n",
              "      <td>0.099286</td>\n",
              "      <td>0.519721</td>\n",
              "      <td>-0.665917</td>\n",
              "      <td>-0.640239</td>\n",
              "      <td>2.366528</td>\n",
              "      <td>0.604735</td>\n",
              "      <td>-0.503457</td>\n",
              "      <td>0.006110</td>\n",
              "      <td>...</td>\n",
              "      <td>1.592422e-19</td>\n",
              "      <td>4.391019e-18</td>\n",
              "      <td>6.266689e-17</td>\n",
              "      <td>0.009383</td>\n",
              "      <td>1.592422e-19</td>\n",
              "      <td>0.000436</td>\n",
              "      <td>3.859760e-17</td>\n",
              "      <td>3.876023e-18</td>\n",
              "      <td>1.592422e-19</td>\n",
              "      <td>0.041894</td>\n",
              "    </tr>\n",
              "    <tr>\n",
              "      <th>1</th>\n",
              "      <td>0.147600</td>\n",
              "      <td>-0.521040</td>\n",
              "      <td>0.641201</td>\n",
              "      <td>0.407523</td>\n",
              "      <td>-0.394860</td>\n",
              "      <td>-0.553079</td>\n",
              "      <td>-0.445730</td>\n",
              "      <td>-0.474808</td>\n",
              "      <td>-0.571938</td>\n",
              "      <td>0.006179</td>\n",
              "      <td>...</td>\n",
              "      <td>-1.511107e-18</td>\n",
              "      <td>-1.425726e-17</td>\n",
              "      <td>1.961554e-04</td>\n",
              "      <td>0.077285</td>\n",
              "      <td>-1.511107e-18</td>\n",
              "      <td>0.003825</td>\n",
              "      <td>1.961554e-04</td>\n",
              "      <td>9.807768e-05</td>\n",
              "      <td>-1.511107e-18</td>\n",
              "      <td>0.000588</td>\n",
              "    </tr>\n",
              "    <tr>\n",
              "      <th>2</th>\n",
              "      <td>-0.118039</td>\n",
              "      <td>0.043965</td>\n",
              "      <td>0.210460</td>\n",
              "      <td>-0.875540</td>\n",
              "      <td>1.247670</td>\n",
              "      <td>1.329031</td>\n",
              "      <td>-0.144785</td>\n",
              "      <td>0.336384</td>\n",
              "      <td>1.483827</td>\n",
              "      <td>0.047164</td>\n",
              "      <td>...</td>\n",
              "      <td>1.005632e-04</td>\n",
              "      <td>5.028158e-04</td>\n",
              "      <td>1.910700e-03</td>\n",
              "      <td>0.050181</td>\n",
              "      <td>1.005632e-04</td>\n",
              "      <td>0.003821</td>\n",
              "      <td>3.318584e-03</td>\n",
              "      <td>3.016895e-04</td>\n",
              "      <td>1.005632e-04</td>\n",
              "      <td>0.004123</td>\n",
              "    </tr>\n",
              "    <tr>\n",
              "      <th>3</th>\n",
              "      <td>-0.066765</td>\n",
              "      <td>0.814075</td>\n",
              "      <td>-0.095090</td>\n",
              "      <td>-0.635969</td>\n",
              "      <td>-0.312976</td>\n",
              "      <td>0.167736</td>\n",
              "      <td>-0.181165</td>\n",
              "      <td>0.898148</td>\n",
              "      <td>-0.096914</td>\n",
              "      <td>0.116348</td>\n",
              "      <td>...</td>\n",
              "      <td>1.626303e-19</td>\n",
              "      <td>7.777259e-04</td>\n",
              "      <td>5.755172e-03</td>\n",
              "      <td>0.038264</td>\n",
              "      <td>1.626303e-19</td>\n",
              "      <td>0.001555</td>\n",
              "      <td>5.132991e-03</td>\n",
              "      <td>4.666356e-04</td>\n",
              "      <td>1.626303e-19</td>\n",
              "      <td>0.006844</td>\n",
              "    </tr>\n",
              "    <tr>\n",
              "      <th>4</th>\n",
              "      <td>-0.140979</td>\n",
              "      <td>0.124689</td>\n",
              "      <td>-0.976064</td>\n",
              "      <td>0.720805</td>\n",
              "      <td>-0.382033</td>\n",
              "      <td>-0.658931</td>\n",
              "      <td>-0.425788</td>\n",
              "      <td>-0.811974</td>\n",
              "      <td>-0.690312</td>\n",
              "      <td>0.029947</td>\n",
              "      <td>...</td>\n",
              "      <td>-2.663072e-18</td>\n",
              "      <td>3.455425e-04</td>\n",
              "      <td>1.382170e-03</td>\n",
              "      <td>0.100898</td>\n",
              "      <td>-2.663072e-18</td>\n",
              "      <td>0.002880</td>\n",
              "      <td>1.958074e-03</td>\n",
              "      <td>8.212831e-18</td>\n",
              "      <td>-2.663072e-18</td>\n",
              "      <td>0.006105</td>\n",
              "    </tr>\n",
              "  </tbody>\n",
              "</table>\n",
              "<p>5 rows × 262 columns</p>\n",
              "</div>\n",
              "      <button class=\"colab-df-convert\" onclick=\"convertToInteractive('df-5f6fff53-f412-43c1-b6fc-88e8ef309172')\"\n",
              "              title=\"Convert this dataframe to an interactive table.\"\n",
              "              style=\"display:none;\">\n",
              "        \n",
              "  <svg xmlns=\"http://www.w3.org/2000/svg\" height=\"24px\"viewBox=\"0 0 24 24\"\n",
              "       width=\"24px\">\n",
              "    <path d=\"M0 0h24v24H0V0z\" fill=\"none\"/>\n",
              "    <path d=\"M18.56 5.44l.94 2.06.94-2.06 2.06-.94-2.06-.94-.94-2.06-.94 2.06-2.06.94zm-11 1L8.5 8.5l.94-2.06 2.06-.94-2.06-.94L8.5 2.5l-.94 2.06-2.06.94zm10 10l.94 2.06.94-2.06 2.06-.94-2.06-.94-.94-2.06-.94 2.06-2.06.94z\"/><path d=\"M17.41 7.96l-1.37-1.37c-.4-.4-.92-.59-1.43-.59-.52 0-1.04.2-1.43.59L10.3 9.45l-7.72 7.72c-.78.78-.78 2.05 0 2.83L4 21.41c.39.39.9.59 1.41.59.51 0 1.02-.2 1.41-.59l7.78-7.78 2.81-2.81c.8-.78.8-2.07 0-2.86zM5.41 20L4 18.59l7.72-7.72 1.47 1.35L5.41 20z\"/>\n",
              "  </svg>\n",
              "      </button>\n",
              "      \n",
              "  <style>\n",
              "    .colab-df-container {\n",
              "      display:flex;\n",
              "      flex-wrap:wrap;\n",
              "      gap: 12px;\n",
              "    }\n",
              "\n",
              "    .colab-df-convert {\n",
              "      background-color: #E8F0FE;\n",
              "      border: none;\n",
              "      border-radius: 50%;\n",
              "      cursor: pointer;\n",
              "      display: none;\n",
              "      fill: #1967D2;\n",
              "      height: 32px;\n",
              "      padding: 0 0 0 0;\n",
              "      width: 32px;\n",
              "    }\n",
              "\n",
              "    .colab-df-convert:hover {\n",
              "      background-color: #E2EBFA;\n",
              "      box-shadow: 0px 1px 2px rgba(60, 64, 67, 0.3), 0px 1px 3px 1px rgba(60, 64, 67, 0.15);\n",
              "      fill: #174EA6;\n",
              "    }\n",
              "\n",
              "    [theme=dark] .colab-df-convert {\n",
              "      background-color: #3B4455;\n",
              "      fill: #D2E3FC;\n",
              "    }\n",
              "\n",
              "    [theme=dark] .colab-df-convert:hover {\n",
              "      background-color: #434B5C;\n",
              "      box-shadow: 0px 1px 3px 1px rgba(0, 0, 0, 0.15);\n",
              "      filter: drop-shadow(0px 1px 2px rgba(0, 0, 0, 0.3));\n",
              "      fill: #FFFFFF;\n",
              "    }\n",
              "  </style>\n",
              "\n",
              "      <script>\n",
              "        const buttonEl =\n",
              "          document.querySelector('#df-5f6fff53-f412-43c1-b6fc-88e8ef309172 button.colab-df-convert');\n",
              "        buttonEl.style.display =\n",
              "          google.colab.kernel.accessAllowed ? 'block' : 'none';\n",
              "\n",
              "        async function convertToInteractive(key) {\n",
              "          const element = document.querySelector('#df-5f6fff53-f412-43c1-b6fc-88e8ef309172');\n",
              "          const dataTable =\n",
              "            await google.colab.kernel.invokeFunction('convertToInteractive',\n",
              "                                                     [key], {});\n",
              "          if (!dataTable) return;\n",
              "\n",
              "          const docLinkHtml = 'Like what you see? Visit the ' +\n",
              "            '<a target=\"_blank\" href=https://colab.research.google.com/notebooks/data_table.ipynb>data table notebook</a>'\n",
              "            + ' to learn more about interactive tables.';\n",
              "          element.innerHTML = '';\n",
              "          dataTable['output_type'] = 'display_data';\n",
              "          await google.colab.output.renderOutput(dataTable, element);\n",
              "          const docLink = document.createElement('div');\n",
              "          docLink.innerHTML = docLinkHtml;\n",
              "          element.appendChild(docLink);\n",
              "        }\n",
              "      </script>\n",
              "    </div>\n",
              "  </div>\n",
              "  "
            ]
          },
          "metadata": {},
          "execution_count": 98
        }
      ]
    },
    {
      "cell_type": "markdown",
      "source": [
        "9g\n",
        "The first cluster involves long stays, a very large amount of host listings and very infrequent reviews.\n",
        "The second cluster is the most expensive, but very frequently booked and few reviews. \n",
        "The third cluster has the smallest minimum nights as well as the most numerous and most frequent reviews.\n",
        "The forth cluster has short stays the highest availability, average price.\n",
        "The last cluster is the cheapest, has the longest stay and significantly lower host listings as well as infrequent reviews but the lowest availability too. \n",
        "\n",
        "9h\n",
        "The first cluster makes sense and appears to clearly be the listings from real estate compnies which involve exended rental contracts and signiicantly higher host listingg counts\n",
        "The second cluster is not very well defined. The minimum nights indicates it involves longer stays but the price is too high for it to be in regular homes. These could be the luxurious apartments we identified as part of the 5 clusters from a business perspective. \n",
        "The third cluster involves very short stays and very frequent and numerous reviews. These are the short stays that are more expensive than the longer ones and makes sense, especially with the reviews and the likely number of different tenants.\n",
        "The fourth cluster is difficult to delineate. It has a very high availability but the price is near average. It seems these are the listings that are not performing well and they have been clustered together\n",
        "The last cluster probably represents home owners who have other houses and are renting out their houses in New York. This makes sense with respect to our identified business clusters, the extended contracts not from real estate companies."
      ],
      "metadata": {
        "id": "8jxBv8lhxahj"
      }
    },
    {
      "cell_type": "markdown",
      "source": [],
      "metadata": {
        "id": "1PwCw2RwxS6V"
      }
    }
  ]
}